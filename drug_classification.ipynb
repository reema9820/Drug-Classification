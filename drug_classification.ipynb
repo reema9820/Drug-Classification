{
  "cells": [
    {
      "cell_type": "markdown",
      "source": [
        "Importing the Required Libraries"
      ],
      "metadata": {
        "id": "xO9cAMnPnk1M"
      },
      "id": "xO9cAMnPnk1M"
    },
    {
      "cell_type": "code",
      "execution_count": null,
      "id": "152adf17",
      "metadata": {
        "id": "152adf17",
        "colab": {
          "base_uri": "https://localhost:8080/",
          "height": 52
        },
        "outputId": "b5d6ccd6-0d42-4bd3-e67c-bef5ef4b7499"
      },
      "outputs": [
        {
          "output_type": "execute_result",
          "data": {
            "text/plain": [
              "<Figure size 432x360 with 0 Axes>"
            ]
          },
          "metadata": {},
          "execution_count": 1
        },
        {
          "output_type": "display_data",
          "data": {
            "text/plain": [
              "<Figure size 432x360 with 0 Axes>"
            ]
          },
          "metadata": {}
        }
      ],
      "source": [
        "import numpy as np\n",
        "import pandas as pd\n",
        "import seaborn as sns\n",
        "import matplotlib.pyplot as plt\n",
        "from imblearn.over_sampling import SMOTE\n",
        "from sklearn.metrics import accuracy_score\n",
        "from sklearn.metrics import classification_report\n",
        "from sklearn.metrics import confusion_matrix\n",
        "from sklearn.ensemble import RandomForestClassifier\n",
        "from sklearn.neighbors import KNeighborsClassifier\n",
        "from sklearn.linear_model import LogisticRegression\n",
        "from sklearn.svm import SVC \n",
        "import warnings\n",
        "warnings.filterwarnings(\"ignore\")\n",
        "from sklearn.model_selection import GridSearchCV\n",
        "from sklearn.model_selection import cross_val_score\n",
        "plt.figure(figsize = (6,5))"
      ]
    },
    {
      "cell_type": "markdown",
      "source": [
        "Reading the Data"
      ],
      "metadata": {
        "id": "UOPY1p-ssl4q"
      },
      "id": "UOPY1p-ssl4q"
    },
    {
      "cell_type": "code",
      "execution_count": null,
      "id": "1b311e9f",
      "metadata": {
        "id": "1b311e9f"
      },
      "outputs": [],
      "source": [
        "df=pd.read_csv('/content/drug200.csv')"
      ]
    },
    {
      "cell_type": "code",
      "execution_count": null,
      "id": "4df95fd8",
      "metadata": {
        "id": "4df95fd8",
        "colab": {
          "base_uri": "https://localhost:8080/",
          "height": 206
        },
        "outputId": "bd0b9c62-bbfb-4695-9bd6-cb9b1c89d6ed"
      },
      "outputs": [
        {
          "output_type": "execute_result",
          "data": {
            "text/plain": [
              "   Age Sex      BP Cholesterol  Na_to_K   Drug\n",
              "0   23   F    HIGH        HIGH   25.355  DrugY\n",
              "1   47   M     LOW        HIGH   13.093  drugC\n",
              "2   47   M     LOW        HIGH   10.114  drugC\n",
              "3   28   F  NORMAL        HIGH    7.798  drugX\n",
              "4   61   F     LOW        HIGH   18.043  DrugY"
            ],
            "text/html": [
              "\n",
              "  <div id=\"df-b71ace36-9045-4132-b6f5-eff7d9e34d68\">\n",
              "    <div class=\"colab-df-container\">\n",
              "      <div>\n",
              "<style scoped>\n",
              "    .dataframe tbody tr th:only-of-type {\n",
              "        vertical-align: middle;\n",
              "    }\n",
              "\n",
              "    .dataframe tbody tr th {\n",
              "        vertical-align: top;\n",
              "    }\n",
              "\n",
              "    .dataframe thead th {\n",
              "        text-align: right;\n",
              "    }\n",
              "</style>\n",
              "<table border=\"1\" class=\"dataframe\">\n",
              "  <thead>\n",
              "    <tr style=\"text-align: right;\">\n",
              "      <th></th>\n",
              "      <th>Age</th>\n",
              "      <th>Sex</th>\n",
              "      <th>BP</th>\n",
              "      <th>Cholesterol</th>\n",
              "      <th>Na_to_K</th>\n",
              "      <th>Drug</th>\n",
              "    </tr>\n",
              "  </thead>\n",
              "  <tbody>\n",
              "    <tr>\n",
              "      <th>0</th>\n",
              "      <td>23</td>\n",
              "      <td>F</td>\n",
              "      <td>HIGH</td>\n",
              "      <td>HIGH</td>\n",
              "      <td>25.355</td>\n",
              "      <td>DrugY</td>\n",
              "    </tr>\n",
              "    <tr>\n",
              "      <th>1</th>\n",
              "      <td>47</td>\n",
              "      <td>M</td>\n",
              "      <td>LOW</td>\n",
              "      <td>HIGH</td>\n",
              "      <td>13.093</td>\n",
              "      <td>drugC</td>\n",
              "    </tr>\n",
              "    <tr>\n",
              "      <th>2</th>\n",
              "      <td>47</td>\n",
              "      <td>M</td>\n",
              "      <td>LOW</td>\n",
              "      <td>HIGH</td>\n",
              "      <td>10.114</td>\n",
              "      <td>drugC</td>\n",
              "    </tr>\n",
              "    <tr>\n",
              "      <th>3</th>\n",
              "      <td>28</td>\n",
              "      <td>F</td>\n",
              "      <td>NORMAL</td>\n",
              "      <td>HIGH</td>\n",
              "      <td>7.798</td>\n",
              "      <td>drugX</td>\n",
              "    </tr>\n",
              "    <tr>\n",
              "      <th>4</th>\n",
              "      <td>61</td>\n",
              "      <td>F</td>\n",
              "      <td>LOW</td>\n",
              "      <td>HIGH</td>\n",
              "      <td>18.043</td>\n",
              "      <td>DrugY</td>\n",
              "    </tr>\n",
              "  </tbody>\n",
              "</table>\n",
              "</div>\n",
              "      <button class=\"colab-df-convert\" onclick=\"convertToInteractive('df-b71ace36-9045-4132-b6f5-eff7d9e34d68')\"\n",
              "              title=\"Convert this dataframe to an interactive table.\"\n",
              "              style=\"display:none;\">\n",
              "        \n",
              "  <svg xmlns=\"http://www.w3.org/2000/svg\" height=\"24px\"viewBox=\"0 0 24 24\"\n",
              "       width=\"24px\">\n",
              "    <path d=\"M0 0h24v24H0V0z\" fill=\"none\"/>\n",
              "    <path d=\"M18.56 5.44l.94 2.06.94-2.06 2.06-.94-2.06-.94-.94-2.06-.94 2.06-2.06.94zm-11 1L8.5 8.5l.94-2.06 2.06-.94-2.06-.94L8.5 2.5l-.94 2.06-2.06.94zm10 10l.94 2.06.94-2.06 2.06-.94-2.06-.94-.94-2.06-.94 2.06-2.06.94z\"/><path d=\"M17.41 7.96l-1.37-1.37c-.4-.4-.92-.59-1.43-.59-.52 0-1.04.2-1.43.59L10.3 9.45l-7.72 7.72c-.78.78-.78 2.05 0 2.83L4 21.41c.39.39.9.59 1.41.59.51 0 1.02-.2 1.41-.59l7.78-7.78 2.81-2.81c.8-.78.8-2.07 0-2.86zM5.41 20L4 18.59l7.72-7.72 1.47 1.35L5.41 20z\"/>\n",
              "  </svg>\n",
              "      </button>\n",
              "      \n",
              "  <style>\n",
              "    .colab-df-container {\n",
              "      display:flex;\n",
              "      flex-wrap:wrap;\n",
              "      gap: 12px;\n",
              "    }\n",
              "\n",
              "    .colab-df-convert {\n",
              "      background-color: #E8F0FE;\n",
              "      border: none;\n",
              "      border-radius: 50%;\n",
              "      cursor: pointer;\n",
              "      display: none;\n",
              "      fill: #1967D2;\n",
              "      height: 32px;\n",
              "      padding: 0 0 0 0;\n",
              "      width: 32px;\n",
              "    }\n",
              "\n",
              "    .colab-df-convert:hover {\n",
              "      background-color: #E2EBFA;\n",
              "      box-shadow: 0px 1px 2px rgba(60, 64, 67, 0.3), 0px 1px 3px 1px rgba(60, 64, 67, 0.15);\n",
              "      fill: #174EA6;\n",
              "    }\n",
              "\n",
              "    [theme=dark] .colab-df-convert {\n",
              "      background-color: #3B4455;\n",
              "      fill: #D2E3FC;\n",
              "    }\n",
              "\n",
              "    [theme=dark] .colab-df-convert:hover {\n",
              "      background-color: #434B5C;\n",
              "      box-shadow: 0px 1px 3px 1px rgba(0, 0, 0, 0.15);\n",
              "      filter: drop-shadow(0px 1px 2px rgba(0, 0, 0, 0.3));\n",
              "      fill: #FFFFFF;\n",
              "    }\n",
              "  </style>\n",
              "\n",
              "      <script>\n",
              "        const buttonEl =\n",
              "          document.querySelector('#df-b71ace36-9045-4132-b6f5-eff7d9e34d68 button.colab-df-convert');\n",
              "        buttonEl.style.display =\n",
              "          google.colab.kernel.accessAllowed ? 'block' : 'none';\n",
              "\n",
              "        async function convertToInteractive(key) {\n",
              "          const element = document.querySelector('#df-b71ace36-9045-4132-b6f5-eff7d9e34d68');\n",
              "          const dataTable =\n",
              "            await google.colab.kernel.invokeFunction('convertToInteractive',\n",
              "                                                     [key], {});\n",
              "          if (!dataTable) return;\n",
              "\n",
              "          const docLinkHtml = 'Like what you see? Visit the ' +\n",
              "            '<a target=\"_blank\" href=https://colab.research.google.com/notebooks/data_table.ipynb>data table notebook</a>'\n",
              "            + ' to learn more about interactive tables.';\n",
              "          element.innerHTML = '';\n",
              "          dataTable['output_type'] = 'display_data';\n",
              "          await google.colab.output.renderOutput(dataTable, element);\n",
              "          const docLink = document.createElement('div');\n",
              "          docLink.innerHTML = docLinkHtml;\n",
              "          element.appendChild(docLink);\n",
              "        }\n",
              "      </script>\n",
              "    </div>\n",
              "  </div>\n",
              "  "
            ]
          },
          "metadata": {},
          "execution_count": 3
        }
      ],
      "source": [
        "df.head()"
      ]
    },
    {
      "cell_type": "code",
      "execution_count": null,
      "id": "8dc45565",
      "metadata": {
        "id": "8dc45565",
        "colab": {
          "base_uri": "https://localhost:8080/"
        },
        "outputId": "96406ab5-fa82-4c93-e444-6883d50ca918"
      },
      "outputs": [
        {
          "output_type": "stream",
          "name": "stdout",
          "text": [
            "<class 'pandas.core.frame.DataFrame'>\n",
            "RangeIndex: 200 entries, 0 to 199\n",
            "Data columns (total 6 columns):\n",
            " #   Column       Non-Null Count  Dtype  \n",
            "---  ------       --------------  -----  \n",
            " 0   Age          200 non-null    int64  \n",
            " 1   Sex          200 non-null    object \n",
            " 2   BP           200 non-null    object \n",
            " 3   Cholesterol  200 non-null    object \n",
            " 4   Na_to_K      200 non-null    float64\n",
            " 5   Drug         200 non-null    object \n",
            "dtypes: float64(1), int64(1), object(4)\n",
            "memory usage: 9.5+ KB\n"
          ]
        }
      ],
      "source": [
        "df.info()"
      ]
    },
    {
      "cell_type": "markdown",
      "source": [
        "#Data Exploration"
      ],
      "metadata": {
        "id": "1m0N-ZTX3bXH"
      },
      "id": "1m0N-ZTX3bXH"
    },
    {
      "cell_type": "markdown",
      "source": [
        "Treating Missing Values"
      ],
      "metadata": {
        "id": "P_B9HB5NsqNQ"
      },
      "id": "P_B9HB5NsqNQ"
    },
    {
      "cell_type": "code",
      "execution_count": null,
      "id": "30712206",
      "metadata": {
        "id": "30712206",
        "colab": {
          "base_uri": "https://localhost:8080/"
        },
        "outputId": "7127d6c0-ffad-4a77-843a-23cc5d8c31eb"
      },
      "outputs": [
        {
          "output_type": "execute_result",
          "data": {
            "text/plain": [
              "Age            0\n",
              "Sex            0\n",
              "BP             0\n",
              "Cholesterol    0\n",
              "Na_to_K        0\n",
              "Drug           0\n",
              "dtype: int64"
            ]
          },
          "metadata": {},
          "execution_count": 5
        }
      ],
      "source": [
        "df.isnull().sum()"
      ]
    },
    {
      "cell_type": "code",
      "source": [
        "df.shape"
      ],
      "metadata": {
        "colab": {
          "base_uri": "https://localhost:8080/"
        },
        "id": "P2Rkl7ki69Jv",
        "outputId": "20514aa6-bf75-4837-df7d-5da00964ecb2"
      },
      "id": "P2Rkl7ki69Jv",
      "execution_count": null,
      "outputs": [
        {
          "output_type": "execute_result",
          "data": {
            "text/plain": [
              "(200, 6)"
            ]
          },
          "metadata": {},
          "execution_count": 6
        }
      ]
    },
    {
      "cell_type": "code",
      "source": [
        "sns.heatmap(df.isnull())"
      ],
      "metadata": {
        "colab": {
          "base_uri": "https://localhost:8080/",
          "height": 333
        },
        "id": "G8j4tS7U211l",
        "outputId": "b5dc567c-03c1-4c36-9652-88bbce8c1250"
      },
      "id": "G8j4tS7U211l",
      "execution_count": null,
      "outputs": [
        {
          "output_type": "execute_result",
          "data": {
            "text/plain": [
              "<matplotlib.axes._subplots.AxesSubplot at 0x7f691c99de10>"
            ]
          },
          "metadata": {},
          "execution_count": 7
        },
        {
          "output_type": "display_data",
          "data": {
            "text/plain": [
              "<Figure size 432x288 with 2 Axes>"
            ],
            "image/png": "[encoded data removed]"
          },
          "metadata": {
            "needs_background": "light"
          }
        }
      ]
    },
    {
      "cell_type": "markdown",
      "source": [
        "from the above result there is no missing value"
      ],
      "metadata": {
        "id": "fP_kIGVGsvcQ"
      },
      "id": "fP_kIGVGsvcQ"
    },
    {
      "cell_type": "markdown",
      "source": [
        "Dividing into categorical and numerical values for data exploration"
      ],
      "metadata": {
        "id": "geQv4yR_mgGf"
      },
      "id": "geQv4yR_mgGf"
    },
    {
      "cell_type": "markdown",
      "source": [
        "1.Numerical variable"
      ],
      "metadata": {
        "id": "kUbURgzXtj2O"
      },
      "id": "kUbURgzXtj2O"
    },
    {
      "cell_type": "code",
      "source": [
        "num_col=[col for col in df.columns if df[col].dtypes!='O' ]"
      ],
      "metadata": {
        "id": "wg-UWGSX9Kxx"
      },
      "id": "wg-UWGSX9Kxx",
      "execution_count": null,
      "outputs": []
    },
    {
      "cell_type": "code",
      "source": [
        "num_col"
      ],
      "metadata": {
        "colab": {
          "base_uri": "https://localhost:8080/"
        },
        "id": "7I8vKllE9UfA",
        "outputId": "2ff7fc7e-1cc4-4fd9-d890-0b900d7c1d02"
      },
      "id": "7I8vKllE9UfA",
      "execution_count": null,
      "outputs": [
        {
          "output_type": "execute_result",
          "data": {
            "text/plain": [
              "['Age', 'Na_to_K']"
            ]
          },
          "metadata": {},
          "execution_count": 9
        }
      ]
    },
    {
      "cell_type": "code",
      "execution_count": null,
      "id": "0b9b1ab4",
      "metadata": {
        "id": "0b9b1ab4",
        "colab": {
          "base_uri": "https://localhost:8080/",
          "height": 300
        },
        "outputId": "8a00616f-0a5b-4ef8-8a7f-850a506a9f0b"
      },
      "outputs": [
        {
          "output_type": "execute_result",
          "data": {
            "text/plain": [
              "              Age     Na_to_K\n",
              "count  200.000000  200.000000\n",
              "mean    44.315000   16.084485\n",
              "std     16.544315    7.223956\n",
              "min     15.000000    6.269000\n",
              "25%     31.000000   10.445500\n",
              "50%     45.000000   13.936500\n",
              "75%     58.000000   19.380000\n",
              "max     74.000000   38.247000"
            ],
            "text/html": [
              "\n",
              "  <div id=\"df-5a75f7fe-760a-47c3-acb1-7eff30c34c33\">\n",
              "    <div class=\"colab-df-container\">\n",
              "      <div>\n",
              "<style scoped>\n",
              "    .dataframe tbody tr th:only-of-type {\n",
              "        vertical-align: middle;\n",
              "    }\n",
              "\n",
              "    .dataframe tbody tr th {\n",
              "        vertical-align: top;\n",
              "    }\n",
              "\n",
              "    .dataframe thead th {\n",
              "        text-align: right;\n",
              "    }\n",
              "</style>\n",
              "<table border=\"1\" class=\"dataframe\">\n",
              "  <thead>\n",
              "    <tr style=\"text-align: right;\">\n",
              "      <th></th>\n",
              "      <th>Age</th>\n",
              "      <th>Na_to_K</th>\n",
              "    </tr>\n",
              "  </thead>\n",
              "  <tbody>\n",
              "    <tr>\n",
              "      <th>count</th>\n",
              "      <td>200.000000</td>\n",
              "      <td>200.000000</td>\n",
              "    </tr>\n",
              "    <tr>\n",
              "      <th>mean</th>\n",
              "      <td>44.315000</td>\n",
              "      <td>16.084485</td>\n",
              "    </tr>\n",
              "    <tr>\n",
              "      <th>std</th>\n",
              "      <td>16.544315</td>\n",
              "      <td>7.223956</td>\n",
              "    </tr>\n",
              "    <tr>\n",
              "      <th>min</th>\n",
              "      <td>15.000000</td>\n",
              "      <td>6.269000</td>\n",
              "    </tr>\n",
              "    <tr>\n",
              "      <th>25%</th>\n",
              "      <td>31.000000</td>\n",
              "      <td>10.445500</td>\n",
              "    </tr>\n",
              "    <tr>\n",
              "      <th>50%</th>\n",
              "      <td>45.000000</td>\n",
              "      <td>13.936500</td>\n",
              "    </tr>\n",
              "    <tr>\n",
              "      <th>75%</th>\n",
              "      <td>58.000000</td>\n",
              "      <td>19.380000</td>\n",
              "    </tr>\n",
              "    <tr>\n",
              "      <th>max</th>\n",
              "      <td>74.000000</td>\n",
              "      <td>38.247000</td>\n",
              "    </tr>\n",
              "  </tbody>\n",
              "</table>\n",
              "</div>\n",
              "      <button class=\"colab-df-convert\" onclick=\"convertToInteractive('df-5a75f7fe-760a-47c3-acb1-7eff30c34c33')\"\n",
              "              title=\"Convert this dataframe to an interactive table.\"\n",
              "              style=\"display:none;\">\n",
              "        \n",
              "  <svg xmlns=\"http://www.w3.org/2000/svg\" height=\"24px\"viewBox=\"0 0 24 24\"\n",
              "       width=\"24px\">\n",
              "    <path d=\"M0 0h24v24H0V0z\" fill=\"none\"/>\n",
              "    <path d=\"M18.56 5.44l.94 2.06.94-2.06 2.06-.94-2.06-.94-.94-2.06-.94 2.06-2.06.94zm-11 1L8.5 8.5l.94-2.06 2.06-.94-2.06-.94L8.5 2.5l-.94 2.06-2.06.94zm10 10l.94 2.06.94-2.06 2.06-.94-2.06-.94-.94-2.06-.94 2.06-2.06.94z\"/><path d=\"M17.41 7.96l-1.37-1.37c-.4-.4-.92-.59-1.43-.59-.52 0-1.04.2-1.43.59L10.3 9.45l-7.72 7.72c-.78.78-.78 2.05 0 2.83L4 21.41c.39.39.9.59 1.41.59.51 0 1.02-.2 1.41-.59l7.78-7.78 2.81-2.81c.8-.78.8-2.07 0-2.86zM5.41 20L4 18.59l7.72-7.72 1.47 1.35L5.41 20z\"/>\n",
              "  </svg>\n",
              "      </button>\n",
              "      \n",
              "  <style>\n",
              "    .colab-df-container {\n",
              "      display:flex;\n",
              "      flex-wrap:wrap;\n",
              "      gap: 12px;\n",
              "    }\n",
              "\n",
              "    .colab-df-convert {\n",
              "      background-color: #E8F0FE;\n",
              "      border: none;\n",
              "      border-radius: 50%;\n",
              "      cursor: pointer;\n",
              "      display: none;\n",
              "      fill: #1967D2;\n",
              "      height: 32px;\n",
              "      padding: 0 0 0 0;\n",
              "      width: 32px;\n",
              "    }\n",
              "\n",
              "    .colab-df-convert:hover {\n",
              "      background-color: #E2EBFA;\n",
              "      box-shadow: 0px 1px 2px rgba(60, 64, 67, 0.3), 0px 1px 3px 1px rgba(60, 64, 67, 0.15);\n",
              "      fill: #174EA6;\n",
              "    }\n",
              "\n",
              "    [theme=dark] .colab-df-convert {\n",
              "      background-color: #3B4455;\n",
              "      fill: #D2E3FC;\n",
              "    }\n",
              "\n",
              "    [theme=dark] .colab-df-convert:hover {\n",
              "      background-color: #434B5C;\n",
              "      box-shadow: 0px 1px 3px 1px rgba(0, 0, 0, 0.15);\n",
              "      filter: drop-shadow(0px 1px 2px rgba(0, 0, 0, 0.3));\n",
              "      fill: #FFFFFF;\n",
              "    }\n",
              "  </style>\n",
              "\n",
              "      <script>\n",
              "        const buttonEl =\n",
              "          document.querySelector('#df-5a75f7fe-760a-47c3-acb1-7eff30c34c33 button.colab-df-convert');\n",
              "        buttonEl.style.display =\n",
              "          google.colab.kernel.accessAllowed ? 'block' : 'none';\n",
              "\n",
              "        async function convertToInteractive(key) {\n",
              "          const element = document.querySelector('#df-5a75f7fe-760a-47c3-acb1-7eff30c34c33');\n",
              "          const dataTable =\n",
              "            await google.colab.kernel.invokeFunction('convertToInteractive',\n",
              "                                                     [key], {});\n",
              "          if (!dataTable) return;\n",
              "\n",
              "          const docLinkHtml = 'Like what you see? Visit the ' +\n",
              "            '<a target=\"_blank\" href=https://colab.research.google.com/notebooks/data_table.ipynb>data table notebook</a>'\n",
              "            + ' to learn more about interactive tables.';\n",
              "          element.innerHTML = '';\n",
              "          dataTable['output_type'] = 'display_data';\n",
              "          await google.colab.output.renderOutput(dataTable, element);\n",
              "          const docLink = document.createElement('div');\n",
              "          docLink.innerHTML = docLinkHtml;\n",
              "          element.appendChild(docLink);\n",
              "        }\n",
              "      </script>\n",
              "    </div>\n",
              "  </div>\n",
              "  "
            ]
          },
          "metadata": {},
          "execution_count": 10
        }
      ],
      "source": [
        "df.describe()"
      ]
    },
    {
      "cell_type": "markdown",
      "source": [
        "We are now finding the skewness value for each numerical variable"
      ],
      "metadata": {
        "id": "yUZM2xEf3619"
      },
      "id": "yUZM2xEf3619"
    },
    {
      "cell_type": "code",
      "execution_count": null,
      "id": "b1093b4f",
      "metadata": {
        "id": "b1093b4f",
        "colab": {
          "base_uri": "https://localhost:8080/",
          "height": 577
        },
        "outputId": "b771c434-b8be-44ac-de19-0d0c145d4566"
      },
      "outputs": [
        {
          "output_type": "stream",
          "name": "stdout",
          "text": [
            "skewness:  0.03030835703000607\n"
          ]
        },
        {
          "output_type": "display_data",
          "data": {
            "text/plain": [
              "<Figure size 432x288 with 1 Axes>"
            ],
            "image/png": "[encoded data removed]"
          },
          "metadata": {
            "needs_background": "light"
          }
        },
        {
          "output_type": "stream",
          "name": "stdout",
          "text": [
            "skewness:  1.039341186028881\n"
          ]
        },
        {
          "output_type": "display_data",
          "data": {
            "text/plain": [
              "<Figure size 432x288 with 1 Axes>"
            ],
            "image/png": "[encoded data removed]"
          },
          "metadata": {
            "needs_background": "light"
          }
        }
      ],
      "source": [
        "for col in num_col:\n",
        "  skew = df[col].skew(axis = 0, skipna = True)\n",
        "  print('skewness: ', skew)\n",
        "  sns.distplot(df[col]);\n",
        "  plt.show()"
      ]
    },
    {
      "cell_type": "markdown",
      "id": "8b90c642",
      "metadata": {
        "id": "8b90c642"
      },
      "source": [
        "So we see that,\n",
        "1. The distribution of 'Age' column is symetric, since the skewness value between -0.5 and 0.5.\n",
        "2. The distribution of 'Na_to_K' column is moderately skewed. It can also be seen from the histogram for 'Na_to_K' column"
      ]
    },
    {
      "cell_type": "markdown",
      "source": [
        "#checking for outlier"
      ],
      "metadata": {
        "id": "RF2ZR5x18BTt"
      },
      "id": "RF2ZR5x18BTt"
    },
    {
      "cell_type": "code",
      "source": [
        "sns.boxplot(data=df)\n",
        "plt.show()"
      ],
      "metadata": {
        "colab": {
          "base_uri": "https://localhost:8080/"
        },
        "id": "OO6l7zJd8C2J",
        "outputId": "5e88024c-5f17-4588-87f8-3edd1f42d8f2"
      },
      "id": "OO6l7zJd8C2J",
      "execution_count": null,
      "outputs": [
        {
          "output_type": "display_data",
          "data": {
            "text/plain": [
              "<Figure size 432x288 with 1 Axes>"
            ],
            "image/png": "[encoded data removed]"
          },
          "metadata": {
            "needs_background": "light"
          }
        }
      ]
    },
    {
      "cell_type": "code",
      "source": [
        "def outliers(data, col):\n",
        "    Q1=data[col].quantile(0.25)\n",
        "    Q3=data[col].quantile(0.75)\n",
        "    IQR=Q3-Q1\n",
        "    #lower bound is Quartile1-(1.5*IQR)\n",
        "    lb=Q1-1.5*IQR\n",
        "    # upper bound is Quartile3+(1.5*IQR)\n",
        "    ub=Q3+1.5*IQR\n",
        "    # returning outlier data\n",
        "    return data[ (data[col]<lb) | (data[col]>ub) ]"
      ],
      "metadata": {
        "id": "WsHTghsF8Nbk"
      },
      "id": "WsHTghsF8Nbk",
      "execution_count": null,
      "outputs": []
    },
    {
      "cell_type": "code",
      "source": [
        "for col in num_col:\n",
        "    print( col)\n",
        "    print(outliers(df, col))\n",
        "    print(\"\\n\")"
      ],
      "metadata": {
        "colab": {
          "base_uri": "https://localhost:8080/"
        },
        "id": "fi9416KT85rd",
        "outputId": "02c6bae7-af0f-4e0d-82a3-5e38e468d263"
      },
      "id": "fi9416KT85rd",
      "execution_count": null,
      "outputs": [
        {
          "output_type": "stream",
          "name": "stdout",
          "text": [
            "Age\n",
            "Empty DataFrame\n",
            "Columns: [Age, Sex, BP, Cholesterol, Na_to_K, Drug]\n",
            "Index: []\n",
            "\n",
            "\n",
            "Na_to_K\n",
            "     Age Sex    BP Cholesterol  Na_to_K   Drug\n",
            "24    33   F   LOW        HIGH   33.486  DrugY\n",
            "96    58   F   LOW        HIGH   38.247  DrugY\n",
            "98    20   M  HIGH      NORMAL   35.639  DrugY\n",
            "128   47   M   LOW      NORMAL   33.542  DrugY\n",
            "131   52   M   LOW      NORMAL   32.922  DrugY\n",
            "184   18   F  HIGH        HIGH   37.188  DrugY\n",
            "188   65   M  HIGH      NORMAL   34.997  DrugY\n",
            "194   46   F  HIGH        HIGH   34.686  DrugY\n",
            "\n",
            "\n"
          ]
        }
      ]
    },
    {
      "cell_type": "markdown",
      "source": [
        "We see their are 8 outlier values in Na_to_K column. Now lets see how is this variable related to our target column"
      ],
      "metadata": {
        "id": "S4x4jy2z_4Pz"
      },
      "id": "S4x4jy2z_4Pz"
    },
    {
      "cell_type": "code",
      "source": [
        "plt.figure(figsize = (7,5))\n",
        "sns.swarmplot(x = \"Drug\", y = \"Na_to_K\",data = df)\n",
        "plt.title(\"Na_to_K -- Drug\")\n",
        "plt.show()"
      ],
      "metadata": {
        "colab": {
          "base_uri": "https://localhost:8080/"
        },
        "id": "potzOdL6APJA",
        "outputId": "78ad0811-72ac-43f3-f98f-1650b53f065c"
      },
      "id": "potzOdL6APJA",
      "execution_count": null,
      "outputs": [
        {
          "output_type": "display_data",
          "data": {
            "text/plain": [
              "<Figure size 504x360 with 1 Axes>"
            ],
            "image/png": "[encoded data removed]"
          },
          "metadata": {
            "needs_background": "light"
          }
        }
      ]
    },
    {
      "cell_type": "markdown",
      "source": [
        "People who have Na_to_K ratio bigger than 15.015, get DrugY. We can create a new feature from here.\n",
        "\n"
      ],
      "metadata": {
        "id": "OMCXDBRfAg2T"
      },
      "id": "OMCXDBRfAg2T"
    },
    {
      "cell_type": "code",
      "source": [
        "df['Na_to_K_Bigger_Than_15'] = [1 if i >=15.015 else 0 for i in df.Na_to_K]\n",
        "df.head()"
      ],
      "metadata": {
        "colab": {
          "base_uri": "https://localhost:8080/"
        },
        "id": "ArfjR8XCL-dJ",
        "outputId": "61cd299a-41b9-447b-9c15-f90fb15922fe"
      },
      "id": "ArfjR8XCL-dJ",
      "execution_count": null,
      "outputs": [
        {
          "output_type": "execute_result",
          "data": {
            "text/plain": [
              "   Age Sex      BP Cholesterol  Na_to_K   Drug  Na_to_K_Bigger_Than_15\n",
              "0   23   F    HIGH        HIGH   25.355  DrugY                       1\n",
              "1   47   M     LOW        HIGH   13.093  drugC                       0\n",
              "2   47   M     LOW        HIGH   10.114  drugC                       0\n",
              "3   28   F  NORMAL        HIGH    7.798  drugX                       0\n",
              "4   61   F     LOW        HIGH   18.043  DrugY                       1"
            ],
            "text/html": [
              "\n",
              "  <div id=\"df-1e3fcfc9-164b-4d96-bb91-26c7a7e82b7a\">\n",
              "    <div class=\"colab-df-container\">\n",
              "      <div>\n",
              "<style scoped>\n",
              "    .dataframe tbody tr th:only-of-type {\n",
              "        vertical-align: middle;\n",
              "    }\n",
              "\n",
              "    .dataframe tbody tr th {\n",
              "        vertical-align: top;\n",
              "    }\n",
              "\n",
              "    .dataframe thead th {\n",
              "        text-align: right;\n",
              "    }\n",
              "</style>\n",
              "<table border=\"1\" class=\"dataframe\">\n",
              "  <thead>\n",
              "    <tr style=\"text-align: right;\">\n",
              "      <th></th>\n",
              "      <th>Age</th>\n",
              "      <th>Sex</th>\n",
              "      <th>BP</th>\n",
              "      <th>Cholesterol</th>\n",
              "      <th>Na_to_K</th>\n",
              "      <th>Drug</th>\n",
              "      <th>Na_to_K_Bigger_Than_15</th>\n",
              "    </tr>\n",
              "  </thead>\n",
              "  <tbody>\n",
              "    <tr>\n",
              "      <th>0</th>\n",
              "      <td>23</td>\n",
              "      <td>F</td>\n",
              "      <td>HIGH</td>\n",
              "      <td>HIGH</td>\n",
              "      <td>25.355</td>\n",
              "      <td>DrugY</td>\n",
              "      <td>1</td>\n",
              "    </tr>\n",
              "    <tr>\n",
              "      <th>1</th>\n",
              "      <td>47</td>\n",
              "      <td>M</td>\n",
              "      <td>LOW</td>\n",
              "      <td>HIGH</td>\n",
              "      <td>13.093</td>\n",
              "      <td>drugC</td>\n",
              "      <td>0</td>\n",
              "    </tr>\n",
              "    <tr>\n",
              "      <th>2</th>\n",
              "      <td>47</td>\n",
              "      <td>M</td>\n",
              "      <td>LOW</td>\n",
              "      <td>HIGH</td>\n",
              "      <td>10.114</td>\n",
              "      <td>drugC</td>\n",
              "      <td>0</td>\n",
              "    </tr>\n",
              "    <tr>\n",
              "      <th>3</th>\n",
              "      <td>28</td>\n",
              "      <td>F</td>\n",
              "      <td>NORMAL</td>\n",
              "      <td>HIGH</td>\n",
              "      <td>7.798</td>\n",
              "      <td>drugX</td>\n",
              "      <td>0</td>\n",
              "    </tr>\n",
              "    <tr>\n",
              "      <th>4</th>\n",
              "      <td>61</td>\n",
              "      <td>F</td>\n",
              "      <td>LOW</td>\n",
              "      <td>HIGH</td>\n",
              "      <td>18.043</td>\n",
              "      <td>DrugY</td>\n",
              "      <td>1</td>\n",
              "    </tr>\n",
              "  </tbody>\n",
              "</table>\n",
              "</div>\n",
              "      <button class=\"colab-df-convert\" onclick=\"convertToInteractive('df-1e3fcfc9-164b-4d96-bb91-26c7a7e82b7a')\"\n",
              "              title=\"Convert this dataframe to an interactive table.\"\n",
              "              style=\"display:none;\">\n",
              "        \n",
              "  <svg xmlns=\"http://www.w3.org/2000/svg\" height=\"24px\"viewBox=\"0 0 24 24\"\n",
              "       width=\"24px\">\n",
              "    <path d=\"M0 0h24v24H0V0z\" fill=\"none\"/>\n",
              "    <path d=\"M18.56 5.44l.94 2.06.94-2.06 2.06-.94-2.06-.94-.94-2.06-.94 2.06-2.06.94zm-11 1L8.5 8.5l.94-2.06 2.06-.94-2.06-.94L8.5 2.5l-.94 2.06-2.06.94zm10 10l.94 2.06.94-2.06 2.06-.94-2.06-.94-.94-2.06-.94 2.06-2.06.94z\"/><path d=\"M17.41 7.96l-1.37-1.37c-.4-.4-.92-.59-1.43-.59-.52 0-1.04.2-1.43.59L10.3 9.45l-7.72 7.72c-.78.78-.78 2.05 0 2.83L4 21.41c.39.39.9.59 1.41.59.51 0 1.02-.2 1.41-.59l7.78-7.78 2.81-2.81c.8-.78.8-2.07 0-2.86zM5.41 20L4 18.59l7.72-7.72 1.47 1.35L5.41 20z\"/>\n",
              "  </svg>\n",
              "      </button>\n",
              "      \n",
              "  <style>\n",
              "    .colab-df-container {\n",
              "      display:flex;\n",
              "      flex-wrap:wrap;\n",
              "      gap: 12px;\n",
              "    }\n",
              "\n",
              "    .colab-df-convert {\n",
              "      background-color: #E8F0FE;\n",
              "      border: none;\n",
              "      border-radius: 50%;\n",
              "      cursor: pointer;\n",
              "      display: none;\n",
              "      fill: #1967D2;\n",
              "      height: 32px;\n",
              "      padding: 0 0 0 0;\n",
              "      width: 32px;\n",
              "    }\n",
              "\n",
              "    .colab-df-convert:hover {\n",
              "      background-color: #E2EBFA;\n",
              "      box-shadow: 0px 1px 2px rgba(60, 64, 67, 0.3), 0px 1px 3px 1px rgba(60, 64, 67, 0.15);\n",
              "      fill: #174EA6;\n",
              "    }\n",
              "\n",
              "    [theme=dark] .colab-df-convert {\n",
              "      background-color: #3B4455;\n",
              "      fill: #D2E3FC;\n",
              "    }\n",
              "\n",
              "    [theme=dark] .colab-df-convert:hover {\n",
              "      background-color: #434B5C;\n",
              "      box-shadow: 0px 1px 3px 1px rgba(0, 0, 0, 0.15);\n",
              "      filter: drop-shadow(0px 1px 2px rgba(0, 0, 0, 0.3));\n",
              "      fill: #FFFFFF;\n",
              "    }\n",
              "  </style>\n",
              "\n",
              "      <script>\n",
              "        const buttonEl =\n",
              "          document.querySelector('#df-1e3fcfc9-164b-4d96-bb91-26c7a7e82b7a button.colab-df-convert');\n",
              "        buttonEl.style.display =\n",
              "          google.colab.kernel.accessAllowed ? 'block' : 'none';\n",
              "\n",
              "        async function convertToInteractive(key) {\n",
              "          const element = document.querySelector('#df-1e3fcfc9-164b-4d96-bb91-26c7a7e82b7a');\n",
              "          const dataTable =\n",
              "            await google.colab.kernel.invokeFunction('convertToInteractive',\n",
              "                                                     [key], {});\n",
              "          if (!dataTable) return;\n",
              "\n",
              "          const docLinkHtml = 'Like what you see? Visit the ' +\n",
              "            '<a target=\"_blank\" href=https://colab.research.google.com/notebooks/data_table.ipynb>data table notebook</a>'\n",
              "            + ' to learn more about interactive tables.';\n",
              "          element.innerHTML = '';\n",
              "          dataTable['output_type'] = 'display_data';\n",
              "          await google.colab.output.renderOutput(dataTable, element);\n",
              "          const docLink = document.createElement('div');\n",
              "          docLink.innerHTML = docLinkHtml;\n",
              "          element.appendChild(docLink);\n",
              "        }\n",
              "      </script>\n",
              "    </div>\n",
              "  </div>\n",
              "  "
            ]
          },
          "metadata": {},
          "execution_count": 16
        }
      ]
    },
    {
      "cell_type": "code",
      "source": [
        "df_NaK15 = df.groupby([\"Drug\",\"Na_to_K_Bigger_Than_15\"]).size().reset_index(name = \"Count\")\n",
        "df_NaK15"
      ],
      "metadata": {
        "colab": {
          "base_uri": "https://localhost:8080/"
        },
        "id": "TkRCHZHjMC7b",
        "outputId": "6d26b03e-1818-4647-dac3-37e8753ffe77"
      },
      "id": "TkRCHZHjMC7b",
      "execution_count": null,
      "outputs": [
        {
          "output_type": "execute_result",
          "data": {
            "text/plain": [
              "    Drug  Na_to_K_Bigger_Than_15  Count\n",
              "0  DrugY                       1     91\n",
              "1  drugA                       0     23\n",
              "2  drugB                       0     16\n",
              "3  drugC                       0     16\n",
              "4  drugX                       0     54"
            ],
            "text/html": [
              "\n",
              "  <div id=\"df-9d32f3a5-738a-44f9-9557-fb4e3fe0a533\">\n",
              "    <div class=\"colab-df-container\">\n",
              "      <div>\n",
              "<style scoped>\n",
              "    .dataframe tbody tr th:only-of-type {\n",
              "        vertical-align: middle;\n",
              "    }\n",
              "\n",
              "    .dataframe tbody tr th {\n",
              "        vertical-align: top;\n",
              "    }\n",
              "\n",
              "    .dataframe thead th {\n",
              "        text-align: right;\n",
              "    }\n",
              "</style>\n",
              "<table border=\"1\" class=\"dataframe\">\n",
              "  <thead>\n",
              "    <tr style=\"text-align: right;\">\n",
              "      <th></th>\n",
              "      <th>Drug</th>\n",
              "      <th>Na_to_K_Bigger_Than_15</th>\n",
              "      <th>Count</th>\n",
              "    </tr>\n",
              "  </thead>\n",
              "  <tbody>\n",
              "    <tr>\n",
              "      <th>0</th>\n",
              "      <td>DrugY</td>\n",
              "      <td>1</td>\n",
              "      <td>91</td>\n",
              "    </tr>\n",
              "    <tr>\n",
              "      <th>1</th>\n",
              "      <td>drugA</td>\n",
              "      <td>0</td>\n",
              "      <td>23</td>\n",
              "    </tr>\n",
              "    <tr>\n",
              "      <th>2</th>\n",
              "      <td>drugB</td>\n",
              "      <td>0</td>\n",
              "      <td>16</td>\n",
              "    </tr>\n",
              "    <tr>\n",
              "      <th>3</th>\n",
              "      <td>drugC</td>\n",
              "      <td>0</td>\n",
              "      <td>16</td>\n",
              "    </tr>\n",
              "    <tr>\n",
              "      <th>4</th>\n",
              "      <td>drugX</td>\n",
              "      <td>0</td>\n",
              "      <td>54</td>\n",
              "    </tr>\n",
              "  </tbody>\n",
              "</table>\n",
              "</div>\n",
              "      <button class=\"colab-df-convert\" onclick=\"convertToInteractive('df-9d32f3a5-738a-44f9-9557-fb4e3fe0a533')\"\n",
              "              title=\"Convert this dataframe to an interactive table.\"\n",
              "              style=\"display:none;\">\n",
              "        \n",
              "  <svg xmlns=\"http://www.w3.org/2000/svg\" height=\"24px\"viewBox=\"0 0 24 24\"\n",
              "       width=\"24px\">\n",
              "    <path d=\"M0 0h24v24H0V0z\" fill=\"none\"/>\n",
              "    <path d=\"M18.56 5.44l.94 2.06.94-2.06 2.06-.94-2.06-.94-.94-2.06-.94 2.06-2.06.94zm-11 1L8.5 8.5l.94-2.06 2.06-.94-2.06-.94L8.5 2.5l-.94 2.06-2.06.94zm10 10l.94 2.06.94-2.06 2.06-.94-2.06-.94-.94-2.06-.94 2.06-2.06.94z\"/><path d=\"M17.41 7.96l-1.37-1.37c-.4-.4-.92-.59-1.43-.59-.52 0-1.04.2-1.43.59L10.3 9.45l-7.72 7.72c-.78.78-.78 2.05 0 2.83L4 21.41c.39.39.9.59 1.41.59.51 0 1.02-.2 1.41-.59l7.78-7.78 2.81-2.81c.8-.78.8-2.07 0-2.86zM5.41 20L4 18.59l7.72-7.72 1.47 1.35L5.41 20z\"/>\n",
              "  </svg>\n",
              "      </button>\n",
              "      \n",
              "  <style>\n",
              "    .colab-df-container {\n",
              "      display:flex;\n",
              "      flex-wrap:wrap;\n",
              "      gap: 12px;\n",
              "    }\n",
              "\n",
              "    .colab-df-convert {\n",
              "      background-color: #E8F0FE;\n",
              "      border: none;\n",
              "      border-radius: 50%;\n",
              "      cursor: pointer;\n",
              "      display: none;\n",
              "      fill: #1967D2;\n",
              "      height: 32px;\n",
              "      padding: 0 0 0 0;\n",
              "      width: 32px;\n",
              "    }\n",
              "\n",
              "    .colab-df-convert:hover {\n",
              "      background-color: #E2EBFA;\n",
              "      box-shadow: 0px 1px 2px rgba(60, 64, 67, 0.3), 0px 1px 3px 1px rgba(60, 64, 67, 0.15);\n",
              "      fill: #174EA6;\n",
              "    }\n",
              "\n",
              "    [theme=dark] .colab-df-convert {\n",
              "      background-color: #3B4455;\n",
              "      fill: #D2E3FC;\n",
              "    }\n",
              "\n",
              "    [theme=dark] .colab-df-convert:hover {\n",
              "      background-color: #434B5C;\n",
              "      box-shadow: 0px 1px 3px 1px rgba(0, 0, 0, 0.15);\n",
              "      filter: drop-shadow(0px 1px 2px rgba(0, 0, 0, 0.3));\n",
              "      fill: #FFFFFF;\n",
              "    }\n",
              "  </style>\n",
              "\n",
              "      <script>\n",
              "        const buttonEl =\n",
              "          document.querySelector('#df-9d32f3a5-738a-44f9-9557-fb4e3fe0a533 button.colab-df-convert');\n",
              "        buttonEl.style.display =\n",
              "          google.colab.kernel.accessAllowed ? 'block' : 'none';\n",
              "\n",
              "        async function convertToInteractive(key) {\n",
              "          const element = document.querySelector('#df-9d32f3a5-738a-44f9-9557-fb4e3fe0a533');\n",
              "          const dataTable =\n",
              "            await google.colab.kernel.invokeFunction('convertToInteractive',\n",
              "                                                     [key], {});\n",
              "          if (!dataTable) return;\n",
              "\n",
              "          const docLinkHtml = 'Like what you see? Visit the ' +\n",
              "            '<a target=\"_blank\" href=https://colab.research.google.com/notebooks/data_table.ipynb>data table notebook</a>'\n",
              "            + ' to learn more about interactive tables.';\n",
              "          element.innerHTML = '';\n",
              "          dataTable['output_type'] = 'display_data';\n",
              "          await google.colab.output.renderOutput(dataTable, element);\n",
              "          const docLink = document.createElement('div');\n",
              "          docLink.innerHTML = docLinkHtml;\n",
              "          element.appendChild(docLink);\n",
              "        }\n",
              "      </script>\n",
              "    </div>\n",
              "  </div>\n",
              "  "
            ]
          },
          "metadata": {},
          "execution_count": 17
        }
      ]
    },
    {
      "cell_type": "code",
      "source": [
        "plt.figure(figsize = (7,5))\n",
        "sns.barplot(x = \"Drug\",y=\"Count\", hue = \"Na_to_K_Bigger_Than_15\",data = df_NaK15)\n",
        "plt.title(\"Na_to_K_Bigger_Than_15 -- Drug\")\n",
        "plt.show()"
      ],
      "metadata": {
        "colab": {
          "base_uri": "https://localhost:8080/"
        },
        "id": "jquhpXMHMUUg",
        "outputId": "0a8db57f-6bc6-43cc-d201-d8d3ae69cd6c"
      },
      "id": "jquhpXMHMUUg",
      "execution_count": null,
      "outputs": [
        {
          "output_type": "display_data",
          "data": {
            "text/plain": [
              "<Figure size 504x360 with 1 Axes>"
            ],
            "image/png": "[encoded data removed]"
          },
          "metadata": {
            "needs_background": "light"
          }
        }
      ]
    },
    {
      "cell_type": "markdown",
      "source": [
        "Na_to_K_Bigger_Than_15 feature will be important feature to drugY classification.\n",
        "\n"
      ],
      "metadata": {
        "id": "NtZ2iFGJMcif"
      },
      "id": "NtZ2iFGJMcif"
    },
    {
      "cell_type": "markdown",
      "source": [
        "#2. Categorical Variables"
      ],
      "metadata": {
        "id": "ocH-XaIn3i7Q"
      },
      "id": "ocH-XaIn3i7Q"
    },
    {
      "cell_type": "code",
      "source": [
        "cat_col=[col for col in df.columns if df[col].dtypes=='O' ]\n",
        "cat_col   "
      ],
      "metadata": {
        "colab": {
          "base_uri": "https://localhost:8080/"
        },
        "id": "IOTLLc55ObKG",
        "outputId": "1a0ff251-924c-4b28-c720-b4f306cfb29e"
      },
      "id": "IOTLLc55ObKG",
      "execution_count": null,
      "outputs": [
        {
          "output_type": "execute_result",
          "data": {
            "text/plain": [
              "['Sex', 'BP', 'Cholesterol', 'Drug']"
            ]
          },
          "metadata": {},
          "execution_count": 19
        }
      ]
    },
    {
      "cell_type": "code",
      "source": [
        "for col in cat_col:\n",
        "  print(col)\n",
        "  print(df[col].value_counts())\n",
        "  print()"
      ],
      "metadata": {
        "colab": {
          "base_uri": "https://localhost:8080/"
        },
        "id": "7Upd8IzBOnPe",
        "outputId": "b21c265c-27e8-4ea5-f83e-9af2d6416447"
      },
      "id": "7Upd8IzBOnPe",
      "execution_count": null,
      "outputs": [
        {
          "output_type": "stream",
          "name": "stdout",
          "text": [
            "Sex\n",
            "M    104\n",
            "F     96\n",
            "Name: Sex, dtype: int64\n",
            "\n",
            "BP\n",
            "HIGH      77\n",
            "LOW       64\n",
            "NORMAL    59\n",
            "Name: BP, dtype: int64\n",
            "\n",
            "Cholesterol\n",
            "HIGH      103\n",
            "NORMAL     97\n",
            "Name: Cholesterol, dtype: int64\n",
            "\n",
            "Drug\n",
            "DrugY    91\n",
            "drugX    54\n",
            "drugA    23\n",
            "drugC    16\n",
            "drugB    16\n",
            "Name: Drug, dtype: int64\n",
            "\n"
          ]
        }
      ]
    },
    {
      "cell_type": "markdown",
      "source": [
        "It can be seen that from results above, DrugY has more amount than other types of drugs, so the data is imbalanced and we would need to treat this later"
      ],
      "metadata": {
        "id": "of1Ob5FxtYE0"
      },
      "id": "of1Ob5FxtYE0"
    },
    {
      "cell_type": "markdown",
      "source": [
        "#Visualizations"
      ],
      "metadata": {
        "id": "BrLfIqgv4opI"
      },
      "id": "BrLfIqgv4opI"
    },
    {
      "cell_type": "markdown",
      "source": [
        "Age Distribution"
      ],
      "metadata": {
        "id": "-dpUCnYAoPbE"
      },
      "id": "-dpUCnYAoPbE"
    },
    {
      "cell_type": "code",
      "source": [
        "plt.figure(figsize = (9,5))\n",
        "sns.swarmplot(x = \"Drug\", y = \"Age\",data = df)\n",
        "plt.legend(df.Drug.value_counts().index)\n",
        "plt.title(\"Age -- Drug\")\n",
        "plt.show()"
      ],
      "metadata": {
        "colab": {
          "base_uri": "https://localhost:8080/",
          "height": 350
        },
        "id": "EiHIFhizkVzg",
        "outputId": "1a0283b7-2910-4c76-e85e-81cd06f21692"
      },
      "id": "EiHIFhizkVzg",
      "execution_count": null,
      "outputs": [
        {
          "output_type": "display_data",
          "data": {
            "text/plain": [
              "<Figure size 648x360 with 1 Axes>"
            ],
            "image/png": "[encoded data removed]"
          },
          "metadata": {
            "needs_background": "light"
          }
        }
      ]
    },
    {
      "cell_type": "code",
      "source": [
        "plt.figure(figsize = (9,5))\n",
        "sns.swarmplot(x = \"Drug\", y = \"Na_to_K\",hue=\"BP\",data = df)\n",
        "plt.legend()\n",
        "plt.title(\"Na_to_K -- BP -- Drug\")\n",
        "plt.show()"
      ],
      "metadata": {
        "colab": {
          "base_uri": "https://localhost:8080/",
          "height": 350
        },
        "id": "MD-U_1i-KPIA",
        "outputId": "59db1d65-5a8e-45ac-fd61-ac6691c012db"
      },
      "id": "MD-U_1i-KPIA",
      "execution_count": null,
      "outputs": [
        {
          "output_type": "display_data",
          "data": {
            "text/plain": [
              "<Figure size 648x360 with 1 Axes>"
            ],
            "image/png": "[encoded data removed]"
          },
          "metadata": {
            "needs_background": "light"
          }
        }
      ]
    },
    {
      "cell_type": "markdown",
      "source": [
        "If people have HIGH blood pressure and Na_to_K ratio is lower than 15 , they get drugA and drugB only.\n",
        "If people have LOW blood pressure and Na_to_K ratio is lower than 15 , they get drugC only."
      ],
      "metadata": {
        "id": "_xs-ctIyKpQe"
      },
      "id": "_xs-ctIyKpQe"
    },
    {
      "cell_type": "markdown",
      "source": [
        "Gender Distribution"
      ],
      "metadata": {
        "id": "EZZc_dbb5NGZ"
      },
      "id": "EZZc_dbb5NGZ"
    },
    {
      "cell_type": "code",
      "execution_count": null,
      "id": "1d70e28a",
      "metadata": {
        "id": "1d70e28a",
        "colab": {
          "base_uri": "https://localhost:8080/",
          "height": 225
        },
        "outputId": "910a9edc-9193-471c-fb3c-1c869dd8b24c"
      },
      "outputs": [
        {
          "output_type": "display_data",
          "data": {
            "text/plain": [
              "<Figure size 360x216 with 1 Axes>"
            ],
            "image/png": "[encoded data removed]"
          },
          "metadata": {
            "needs_background": "light"
          }
        }
      ],
      "source": [
        "plt.figure(figsize=(5,3))\n",
        "sns.countplot(x = df.Sex)\n",
        "plt.show()"
      ]
    },
    {
      "cell_type": "code",
      "source": [
        "plt.figure(figsize=(5,3))\n",
        "keys=['male','female']\n",
        "plt.pie(df['Sex'].value_counts(),labels=keys,autopct='%.2f%%')\n",
        "plt.show()"
      ],
      "metadata": {
        "colab": {
          "base_uri": "https://localhost:8080/",
          "height": 194
        },
        "id": "SGTGaN4GRcIm",
        "outputId": "901120d5-ea87-4402-d8b4-d06eef6e14a0"
      },
      "id": "SGTGaN4GRcIm",
      "execution_count": null,
      "outputs": [
        {
          "output_type": "display_data",
          "data": {
            "text/plain": [
              "<Figure size 360x216 with 1 Axes>"
            ],
            "image/png": "[encoded data removed]"
          },
          "metadata": {}
        }
      ]
    },
    {
      "cell_type": "markdown",
      "source": [
        "1. The ratio of gender seems balanced in the data\n",
        "2. This is a categorical variable. We will apply label encoder to avoid any error during model implementation."
      ],
      "metadata": {
        "id": "rBEOO5jsKarI"
      },
      "id": "rBEOO5jsKarI"
    },
    {
      "cell_type": "markdown",
      "source": [
        "Gender Distribution based on Drug Type"
      ],
      "metadata": {
        "id": "FBHs8G696UVc"
      },
      "id": "FBHs8G696UVc"
    },
    {
      "cell_type": "code",
      "source": [
        "pd.crosstab(df.Sex,df.Drug)"
      ],
      "metadata": {
        "colab": {
          "base_uri": "https://localhost:8080/",
          "height": 143
        },
        "id": "ouoZFqpYWa39",
        "outputId": "1b71053f-944f-4723-e84f-3078a32aef34"
      },
      "id": "ouoZFqpYWa39",
      "execution_count": null,
      "outputs": [
        {
          "output_type": "execute_result",
          "data": {
            "text/plain": [
              "Drug  DrugY  drugA  drugB  drugC  drugX\n",
              "Sex                                    \n",
              "F        47      9      6      7     27\n",
              "M        44     14     10      9     27"
            ],
            "text/html": [
              "\n",
              "  <div id=\"df-45c6580b-8078-4c18-8fca-587cd55b2c34\">\n",
              "    <div class=\"colab-df-container\">\n",
              "      <div>\n",
              "<style scoped>\n",
              "    .dataframe tbody tr th:only-of-type {\n",
              "        vertical-align: middle;\n",
              "    }\n",
              "\n",
              "    .dataframe tbody tr th {\n",
              "        vertical-align: top;\n",
              "    }\n",
              "\n",
              "    .dataframe thead th {\n",
              "        text-align: right;\n",
              "    }\n",
              "</style>\n",
              "<table border=\"1\" class=\"dataframe\">\n",
              "  <thead>\n",
              "    <tr style=\"text-align: right;\">\n",
              "      <th>Drug</th>\n",
              "      <th>DrugY</th>\n",
              "      <th>drugA</th>\n",
              "      <th>drugB</th>\n",
              "      <th>drugC</th>\n",
              "      <th>drugX</th>\n",
              "    </tr>\n",
              "    <tr>\n",
              "      <th>Sex</th>\n",
              "      <th></th>\n",
              "      <th></th>\n",
              "      <th></th>\n",
              "      <th></th>\n",
              "      <th></th>\n",
              "    </tr>\n",
              "  </thead>\n",
              "  <tbody>\n",
              "    <tr>\n",
              "      <th>F</th>\n",
              "      <td>47</td>\n",
              "      <td>9</td>\n",
              "      <td>6</td>\n",
              "      <td>7</td>\n",
              "      <td>27</td>\n",
              "    </tr>\n",
              "    <tr>\n",
              "      <th>M</th>\n",
              "      <td>44</td>\n",
              "      <td>14</td>\n",
              "      <td>10</td>\n",
              "      <td>9</td>\n",
              "      <td>27</td>\n",
              "    </tr>\n",
              "  </tbody>\n",
              "</table>\n",
              "</div>\n",
              "      <button class=\"colab-df-convert\" onclick=\"convertToInteractive('df-45c6580b-8078-4c18-8fca-587cd55b2c34')\"\n",
              "              title=\"Convert this dataframe to an interactive table.\"\n",
              "              style=\"display:none;\">\n",
              "        \n",
              "  <svg xmlns=\"http://www.w3.org/2000/svg\" height=\"24px\"viewBox=\"0 0 24 24\"\n",
              "       width=\"24px\">\n",
              "    <path d=\"M0 0h24v24H0V0z\" fill=\"none\"/>\n",
              "    <path d=\"M18.56 5.44l.94 2.06.94-2.06 2.06-.94-2.06-.94-.94-2.06-.94 2.06-2.06.94zm-11 1L8.5 8.5l.94-2.06 2.06-.94-2.06-.94L8.5 2.5l-.94 2.06-2.06.94zm10 10l.94 2.06.94-2.06 2.06-.94-2.06-.94-.94-2.06-.94 2.06-2.06.94z\"/><path d=\"M17.41 7.96l-1.37-1.37c-.4-.4-.92-.59-1.43-.59-.52 0-1.04.2-1.43.59L10.3 9.45l-7.72 7.72c-.78.78-.78 2.05 0 2.83L4 21.41c.39.39.9.59 1.41.59.51 0 1.02-.2 1.41-.59l7.78-7.78 2.81-2.81c.8-.78.8-2.07 0-2.86zM5.41 20L4 18.59l7.72-7.72 1.47 1.35L5.41 20z\"/>\n",
              "  </svg>\n",
              "      </button>\n",
              "      \n",
              "  <style>\n",
              "    .colab-df-container {\n",
              "      display:flex;\n",
              "      flex-wrap:wrap;\n",
              "      gap: 12px;\n",
              "    }\n",
              "\n",
              "    .colab-df-convert {\n",
              "      background-color: #E8F0FE;\n",
              "      border: none;\n",
              "      border-radius: 50%;\n",
              "      cursor: pointer;\n",
              "      display: none;\n",
              "      fill: #1967D2;\n",
              "      height: 32px;\n",
              "      padding: 0 0 0 0;\n",
              "      width: 32px;\n",
              "    }\n",
              "\n",
              "    .colab-df-convert:hover {\n",
              "      background-color: #E2EBFA;\n",
              "      box-shadow: 0px 1px 2px rgba(60, 64, 67, 0.3), 0px 1px 3px 1px rgba(60, 64, 67, 0.15);\n",
              "      fill: #174EA6;\n",
              "    }\n",
              "\n",
              "    [theme=dark] .colab-df-convert {\n",
              "      background-color: #3B4455;\n",
              "      fill: #D2E3FC;\n",
              "    }\n",
              "\n",
              "    [theme=dark] .colab-df-convert:hover {\n",
              "      background-color: #434B5C;\n",
              "      box-shadow: 0px 1px 3px 1px rgba(0, 0, 0, 0.15);\n",
              "      filter: drop-shadow(0px 1px 2px rgba(0, 0, 0, 0.3));\n",
              "      fill: #FFFFFF;\n",
              "    }\n",
              "  </style>\n",
              "\n",
              "      <script>\n",
              "        const buttonEl =\n",
              "          document.querySelector('#df-45c6580b-8078-4c18-8fca-587cd55b2c34 button.colab-df-convert');\n",
              "        buttonEl.style.display =\n",
              "          google.colab.kernel.accessAllowed ? 'block' : 'none';\n",
              "\n",
              "        async function convertToInteractive(key) {\n",
              "          const element = document.querySelector('#df-45c6580b-8078-4c18-8fca-587cd55b2c34');\n",
              "          const dataTable =\n",
              "            await google.colab.kernel.invokeFunction('convertToInteractive',\n",
              "                                                     [key], {});\n",
              "          if (!dataTable) return;\n",
              "\n",
              "          const docLinkHtml = 'Like what you see? Visit the ' +\n",
              "            '<a target=\"_blank\" href=https://colab.research.google.com/notebooks/data_table.ipynb>data table notebook</a>'\n",
              "            + ' to learn more about interactive tables.';\n",
              "          element.innerHTML = '';\n",
              "          dataTable['output_type'] = 'display_data';\n",
              "          await google.colab.output.renderOutput(dataTable, element);\n",
              "          const docLink = document.createElement('div');\n",
              "          docLink.innerHTML = docLinkHtml;\n",
              "          element.appendChild(docLink);\n",
              "        }\n",
              "      </script>\n",
              "    </div>\n",
              "  </div>\n",
              "  "
            ]
          },
          "metadata": {},
          "execution_count": 25
        }
      ]
    },
    {
      "cell_type": "code",
      "source": [
        "pd.crosstab(df.Drug,df.Sex).plot(kind=\"bar\",figsize=(7,5),color=['#003f5c','#ffa600','#58508d','#bc5090','#ff6361'])\n",
        "plt.title('Drug type based on Gender distribution')\n",
        "plt.xlabel('Drugs')\n",
        "plt.xticks(rotation=0)\n",
        "plt.ylabel('Frequency')\n",
        "plt.show()"
      ],
      "metadata": {
        "colab": {
          "base_uri": "https://localhost:8080/",
          "height": 350
        },
        "id": "Ld2BHJi26X0X",
        "outputId": "59c8e6d3-f48a-4150-f902-ec290b1d0803"
      },
      "id": "Ld2BHJi26X0X",
      "execution_count": null,
      "outputs": [
        {
          "output_type": "display_data",
          "data": {
            "text/plain": [
              "<Figure size 504x360 with 1 Axes>"
            ],
            "image/png": "[encoded data removed]"
          },
          "metadata": {
            "needs_background": "light"
          }
        }
      ]
    },
    {
      "cell_type": "markdown",
      "source": [
        "1. Here we can see that both male and female take Drug Y the most\n",
        "2. Male take drugA, drugB and drugC more than femmale.\n",
        "3. Female get DrugY more than male.\n",
        "4. drugX seems equal for male and female people.\n",
        "5. According to this graph, Sex feature is not an important feature for classification."
      ],
      "metadata": {
        "id": "8ioCLCnGV3Hz"
      },
      "id": "8ioCLCnGV3Hz"
    },
    {
      "cell_type": "markdown",
      "source": [
        "Blood Pressure Distribution"
      ],
      "metadata": {
        "id": "bCyWIBwR58l-"
      },
      "id": "bCyWIBwR58l-"
    },
    {
      "cell_type": "code",
      "source": [
        "plt.figure(figsize = (5,3))\n",
        "sns.countplot(df.BP)\n",
        "plt.show()"
      ],
      "metadata": {
        "id": "Gl4eDvHrmB1W",
        "colab": {
          "base_uri": "https://localhost:8080/",
          "height": 227
        },
        "outputId": "62c10950-b26e-4c78-f61f-6e30b74a9630"
      },
      "id": "Gl4eDvHrmB1W",
      "execution_count": null,
      "outputs": [
        {
          "output_type": "display_data",
          "data": {
            "text/plain": [
              "<Figure size 360x216 with 1 Axes>"
            ],
            "image/png": "[encoded data removed]"
          },
          "metadata": {
            "needs_background": "light"
          }
        }
      ]
    },
    {
      "cell_type": "code",
      "source": [
        "plt.figure(figsize = (5,3))\n",
        "keys=['high','low','normal']\n",
        "plt.pie(df['BP'].value_counts(),labels=keys,autopct='%.2f%%')\n",
        "plt.show()"
      ],
      "metadata": {
        "colab": {
          "base_uri": "https://localhost:8080/",
          "height": 194
        },
        "id": "TaU0_xi9Rzyi",
        "outputId": "d12de112-3346-4e41-c0da-6f446692ffcf"
      },
      "id": "TaU0_xi9Rzyi",
      "execution_count": null,
      "outputs": [
        {
          "output_type": "display_data",
          "data": {
            "text/plain": [
              "<Figure size 360x216 with 1 Axes>"
            ],
            "image/png": "[encoded data removed]"
          },
          "metadata": {}
        }
      ]
    },
    {
      "cell_type": "markdown",
      "source": [
        "1. The ratio of BP seems balanced in the data\n",
        "2. This is a categorical variable. We will apply label encoder to avoid any error during model implementation."
      ],
      "metadata": {
        "id": "rvN_hKxIUWC9"
      },
      "id": "rvN_hKxIUWC9"
    },
    {
      "cell_type": "markdown",
      "source": [
        "Drug type distribution based on BP"
      ],
      "metadata": {
        "id": "7pjAsZWXbYxr"
      },
      "id": "7pjAsZWXbYxr"
    },
    {
      "cell_type": "code",
      "source": [
        "pd.crosstab(df.BP,df.Drug)"
      ],
      "metadata": {
        "colab": {
          "base_uri": "https://localhost:8080/",
          "height": 175
        },
        "id": "9PFUqjFjZQ7r",
        "outputId": "3553d85b-d3ed-4632-d444-e1de1c563ded"
      },
      "id": "9PFUqjFjZQ7r",
      "execution_count": null,
      "outputs": [
        {
          "output_type": "execute_result",
          "data": {
            "text/plain": [
              "Drug    DrugY  drugA  drugB  drugC  drugX\n",
              "BP                                       \n",
              "HIGH       38     23     16      0      0\n",
              "LOW        30      0      0     16     18\n",
              "NORMAL     23      0      0      0     36"
            ],
            "text/html": [
              "\n",
              "  <div id=\"df-b15237fc-9a92-48b5-8779-7ff342d204c6\">\n",
              "    <div class=\"colab-df-container\">\n",
              "      <div>\n",
              "<style scoped>\n",
              "    .dataframe tbody tr th:only-of-type {\n",
              "        vertical-align: middle;\n",
              "    }\n",
              "\n",
              "    .dataframe tbody tr th {\n",
              "        vertical-align: top;\n",
              "    }\n",
              "\n",
              "    .dataframe thead th {\n",
              "        text-align: right;\n",
              "    }\n",
              "</style>\n",
              "<table border=\"1\" class=\"dataframe\">\n",
              "  <thead>\n",
              "    <tr style=\"text-align: right;\">\n",
              "      <th>Drug</th>\n",
              "      <th>DrugY</th>\n",
              "      <th>drugA</th>\n",
              "      <th>drugB</th>\n",
              "      <th>drugC</th>\n",
              "      <th>drugX</th>\n",
              "    </tr>\n",
              "    <tr>\n",
              "      <th>BP</th>\n",
              "      <th></th>\n",
              "      <th></th>\n",
              "      <th></th>\n",
              "      <th></th>\n",
              "      <th></th>\n",
              "    </tr>\n",
              "  </thead>\n",
              "  <tbody>\n",
              "    <tr>\n",
              "      <th>HIGH</th>\n",
              "      <td>38</td>\n",
              "      <td>23</td>\n",
              "      <td>16</td>\n",
              "      <td>0</td>\n",
              "      <td>0</td>\n",
              "    </tr>\n",
              "    <tr>\n",
              "      <th>LOW</th>\n",
              "      <td>30</td>\n",
              "      <td>0</td>\n",
              "      <td>0</td>\n",
              "      <td>16</td>\n",
              "      <td>18</td>\n",
              "    </tr>\n",
              "    <tr>\n",
              "      <th>NORMAL</th>\n",
              "      <td>23</td>\n",
              "      <td>0</td>\n",
              "      <td>0</td>\n",
              "      <td>0</td>\n",
              "      <td>36</td>\n",
              "    </tr>\n",
              "  </tbody>\n",
              "</table>\n",
              "</div>\n",
              "      <button class=\"colab-df-convert\" onclick=\"convertToInteractive('df-b15237fc-9a92-48b5-8779-7ff342d204c6')\"\n",
              "              title=\"Convert this dataframe to an interactive table.\"\n",
              "              style=\"display:none;\">\n",
              "        \n",
              "  <svg xmlns=\"http://www.w3.org/2000/svg\" height=\"24px\"viewBox=\"0 0 24 24\"\n",
              "       width=\"24px\">\n",
              "    <path d=\"M0 0h24v24H0V0z\" fill=\"none\"/>\n",
              "    <path d=\"M18.56 5.44l.94 2.06.94-2.06 2.06-.94-2.06-.94-.94-2.06-.94 2.06-2.06.94zm-11 1L8.5 8.5l.94-2.06 2.06-.94-2.06-.94L8.5 2.5l-.94 2.06-2.06.94zm10 10l.94 2.06.94-2.06 2.06-.94-2.06-.94-.94-2.06-.94 2.06-2.06.94z\"/><path d=\"M17.41 7.96l-1.37-1.37c-.4-.4-.92-.59-1.43-.59-.52 0-1.04.2-1.43.59L10.3 9.45l-7.72 7.72c-.78.78-.78 2.05 0 2.83L4 21.41c.39.39.9.59 1.41.59.51 0 1.02-.2 1.41-.59l7.78-7.78 2.81-2.81c.8-.78.8-2.07 0-2.86zM5.41 20L4 18.59l7.72-7.72 1.47 1.35L5.41 20z\"/>\n",
              "  </svg>\n",
              "      </button>\n",
              "      \n",
              "  <style>\n",
              "    .colab-df-container {\n",
              "      display:flex;\n",
              "      flex-wrap:wrap;\n",
              "      gap: 12px;\n",
              "    }\n",
              "\n",
              "    .colab-df-convert {\n",
              "      background-color: #E8F0FE;\n",
              "      border: none;\n",
              "      border-radius: 50%;\n",
              "      cursor: pointer;\n",
              "      display: none;\n",
              "      fill: #1967D2;\n",
              "      height: 32px;\n",
              "      padding: 0 0 0 0;\n",
              "      width: 32px;\n",
              "    }\n",
              "\n",
              "    .colab-df-convert:hover {\n",
              "      background-color: #E2EBFA;\n",
              "      box-shadow: 0px 1px 2px rgba(60, 64, 67, 0.3), 0px 1px 3px 1px rgba(60, 64, 67, 0.15);\n",
              "      fill: #174EA6;\n",
              "    }\n",
              "\n",
              "    [theme=dark] .colab-df-convert {\n",
              "      background-color: #3B4455;\n",
              "      fill: #D2E3FC;\n",
              "    }\n",
              "\n",
              "    [theme=dark] .colab-df-convert:hover {\n",
              "      background-color: #434B5C;\n",
              "      box-shadow: 0px 1px 3px 1px rgba(0, 0, 0, 0.15);\n",
              "      filter: drop-shadow(0px 1px 2px rgba(0, 0, 0, 0.3));\n",
              "      fill: #FFFFFF;\n",
              "    }\n",
              "  </style>\n",
              "\n",
              "      <script>\n",
              "        const buttonEl =\n",
              "          document.querySelector('#df-b15237fc-9a92-48b5-8779-7ff342d204c6 button.colab-df-convert');\n",
              "        buttonEl.style.display =\n",
              "          google.colab.kernel.accessAllowed ? 'block' : 'none';\n",
              "\n",
              "        async function convertToInteractive(key) {\n",
              "          const element = document.querySelector('#df-b15237fc-9a92-48b5-8779-7ff342d204c6');\n",
              "          const dataTable =\n",
              "            await google.colab.kernel.invokeFunction('convertToInteractive',\n",
              "                                                     [key], {});\n",
              "          if (!dataTable) return;\n",
              "\n",
              "          const docLinkHtml = 'Like what you see? Visit the ' +\n",
              "            '<a target=\"_blank\" href=https://colab.research.google.com/notebooks/data_table.ipynb>data table notebook</a>'\n",
              "            + ' to learn more about interactive tables.';\n",
              "          element.innerHTML = '';\n",
              "          dataTable['output_type'] = 'display_data';\n",
              "          await google.colab.output.renderOutput(dataTable, element);\n",
              "          const docLink = document.createElement('div');\n",
              "          docLink.innerHTML = docLinkHtml;\n",
              "          element.appendChild(docLink);\n",
              "        }\n",
              "      </script>\n",
              "    </div>\n",
              "  </div>\n",
              "  "
            ]
          },
          "metadata": {},
          "execution_count": 29
        }
      ]
    },
    {
      "cell_type": "code",
      "source": [
        "pd.crosstab(df.Drug,df.BP).plot(kind=\"bar\",figsize=(9,5),color=['#003f5c','#ffa600','#58508d'])\n",
        "plt.title('Drug type based on BP distribution')\n",
        "plt.xlabel('Drugs')\n",
        "plt.xticks(rotation=0)\n",
        "plt.ylabel('Frequency')\n",
        "plt.show()"
      ],
      "metadata": {
        "colab": {
          "base_uri": "https://localhost:8080/",
          "height": 350
        },
        "id": "JvHjpoX7ZXN-",
        "outputId": "55f8e8d4-9490-4a58-fcf4-c56b77a6fad3"
      },
      "id": "JvHjpoX7ZXN-",
      "execution_count": null,
      "outputs": [
        {
          "output_type": "display_data",
          "data": {
            "text/plain": [
              "<Figure size 648x360 with 1 Axes>"
            ],
            "image/png": "[encoded data removed]"
          },
          "metadata": {
            "needs_background": "light"
          }
        }
      ]
    },
    {
      "cell_type": "markdown",
      "source": [
        "1. drugA and drugB are taken only by people who have HIGH blood pressure.\n",
        "2. drugC is taken only by people who have LOW blood pressure.\n",
        "3. drugX is taken by people who have low BP and Normal BP.\n",
        "4. drugY is taken by all \n",
        "\n",
        "By Graph, we can say that BP is an important feature for classification."
      ],
      "metadata": {
        "id": "LjfJhN37awNC"
      },
      "id": "LjfJhN37awNC"
    },
    {
      "cell_type": "markdown",
      "source": [
        "Cholesterol Distribution"
      ],
      "metadata": {
        "id": "tRxbhw9A6IHS"
      },
      "id": "tRxbhw9A6IHS"
    },
    {
      "cell_type": "code",
      "source": [
        "plt.figure(figsize = (5,3))\n",
        "sns.countplot(df.Cholesterol)\n",
        "plt.show()"
      ],
      "metadata": {
        "id": "_F2GGim0mT9Y",
        "colab": {
          "base_uri": "https://localhost:8080/",
          "height": 225
        },
        "outputId": "2c316d0e-6b1c-452f-9cdb-a51d3f179345"
      },
      "id": "_F2GGim0mT9Y",
      "execution_count": null,
      "outputs": [
        {
          "output_type": "display_data",
          "data": {
            "text/plain": [
              "<Figure size 360x216 with 1 Axes>"
            ],
            "image/png": "[encoded data removed]"
          },
          "metadata": {
            "needs_background": "light"
          }
        }
      ]
    },
    {
      "cell_type": "code",
      "source": [
        "plt.figure(figsize = (5,3))\n",
        "keys=['high','normal']\n",
        "plt.pie(df['Cholesterol'].value_counts(),labels=keys,autopct='%.2f%%')\n",
        "plt.show()"
      ],
      "metadata": {
        "colab": {
          "base_uri": "https://localhost:8080/",
          "height": 194
        },
        "id": "gxetD_N6Tp1C",
        "outputId": "b828f949-92ed-4002-9f74-4eb6d1ee6245"
      },
      "id": "gxetD_N6Tp1C",
      "execution_count": null,
      "outputs": [
        {
          "output_type": "display_data",
          "data": {
            "text/plain": [
              "<Figure size 360x216 with 1 Axes>"
            ],
            "image/png": "[encoded data removed]"
          },
          "metadata": {}
        }
      ]
    },
    {
      "cell_type": "markdown",
      "source": [
        "1. The ratio of cholestrol seems balanced in the data\n",
        "2. This is a categorical variable. We will apply label encoder to avoid any error during model implementation."
      ],
      "metadata": {
        "id": "3gJk9f5uUfci"
      },
      "id": "3gJk9f5uUfci"
    },
    {
      "cell_type": "markdown",
      "source": [
        "Drug Type Distribution Based on Cholestrol"
      ],
      "metadata": {
        "id": "-IlFAEzAbgi2"
      },
      "id": "-IlFAEzAbgi2"
    },
    {
      "cell_type": "code",
      "source": [
        "pd.crosstab(df.Drug,df.Cholesterol)"
      ],
      "metadata": {
        "colab": {
          "base_uri": "https://localhost:8080/",
          "height": 237
        },
        "id": "Rt7qH12-blJ8",
        "outputId": "b74f07e6-75a0-4d4a-a9b7-31cc09a4fd22"
      },
      "id": "Rt7qH12-blJ8",
      "execution_count": null,
      "outputs": [
        {
          "output_type": "execute_result",
          "data": {
            "text/plain": [
              "Cholesterol  HIGH  NORMAL\n",
              "Drug                     \n",
              "DrugY          47      44\n",
              "drugA          12      11\n",
              "drugB           8       8\n",
              "drugC          16       0\n",
              "drugX          20      34"
            ],
            "text/html": [
              "\n",
              "  <div id=\"df-4f45bbac-a59f-4db1-8931-7e190ef8cc79\">\n",
              "    <div class=\"colab-df-container\">\n",
              "      <div>\n",
              "<style scoped>\n",
              "    .dataframe tbody tr th:only-of-type {\n",
              "        vertical-align: middle;\n",
              "    }\n",
              "\n",
              "    .dataframe tbody tr th {\n",
              "        vertical-align: top;\n",
              "    }\n",
              "\n",
              "    .dataframe thead th {\n",
              "        text-align: right;\n",
              "    }\n",
              "</style>\n",
              "<table border=\"1\" class=\"dataframe\">\n",
              "  <thead>\n",
              "    <tr style=\"text-align: right;\">\n",
              "      <th>Cholesterol</th>\n",
              "      <th>HIGH</th>\n",
              "      <th>NORMAL</th>\n",
              "    </tr>\n",
              "    <tr>\n",
              "      <th>Drug</th>\n",
              "      <th></th>\n",
              "      <th></th>\n",
              "    </tr>\n",
              "  </thead>\n",
              "  <tbody>\n",
              "    <tr>\n",
              "      <th>DrugY</th>\n",
              "      <td>47</td>\n",
              "      <td>44</td>\n",
              "    </tr>\n",
              "    <tr>\n",
              "      <th>drugA</th>\n",
              "      <td>12</td>\n",
              "      <td>11</td>\n",
              "    </tr>\n",
              "    <tr>\n",
              "      <th>drugB</th>\n",
              "      <td>8</td>\n",
              "      <td>8</td>\n",
              "    </tr>\n",
              "    <tr>\n",
              "      <th>drugC</th>\n",
              "      <td>16</td>\n",
              "      <td>0</td>\n",
              "    </tr>\n",
              "    <tr>\n",
              "      <th>drugX</th>\n",
              "      <td>20</td>\n",
              "      <td>34</td>\n",
              "    </tr>\n",
              "  </tbody>\n",
              "</table>\n",
              "</div>\n",
              "      <button class=\"colab-df-convert\" onclick=\"convertToInteractive('df-4f45bbac-a59f-4db1-8931-7e190ef8cc79')\"\n",
              "              title=\"Convert this dataframe to an interactive table.\"\n",
              "              style=\"display:none;\">\n",
              "        \n",
              "  <svg xmlns=\"http://www.w3.org/2000/svg\" height=\"24px\"viewBox=\"0 0 24 24\"\n",
              "       width=\"24px\">\n",
              "    <path d=\"M0 0h24v24H0V0z\" fill=\"none\"/>\n",
              "    <path d=\"M18.56 5.44l.94 2.06.94-2.06 2.06-.94-2.06-.94-.94-2.06-.94 2.06-2.06.94zm-11 1L8.5 8.5l.94-2.06 2.06-.94-2.06-.94L8.5 2.5l-.94 2.06-2.06.94zm10 10l.94 2.06.94-2.06 2.06-.94-2.06-.94-.94-2.06-.94 2.06-2.06.94z\"/><path d=\"M17.41 7.96l-1.37-1.37c-.4-.4-.92-.59-1.43-.59-.52 0-1.04.2-1.43.59L10.3 9.45l-7.72 7.72c-.78.78-.78 2.05 0 2.83L4 21.41c.39.39.9.59 1.41.59.51 0 1.02-.2 1.41-.59l7.78-7.78 2.81-2.81c.8-.78.8-2.07 0-2.86zM5.41 20L4 18.59l7.72-7.72 1.47 1.35L5.41 20z\"/>\n",
              "  </svg>\n",
              "      </button>\n",
              "      \n",
              "  <style>\n",
              "    .colab-df-container {\n",
              "      display:flex;\n",
              "      flex-wrap:wrap;\n",
              "      gap: 12px;\n",
              "    }\n",
              "\n",
              "    .colab-df-convert {\n",
              "      background-color: #E8F0FE;\n",
              "      border: none;\n",
              "      border-radius: 50%;\n",
              "      cursor: pointer;\n",
              "      display: none;\n",
              "      fill: #1967D2;\n",
              "      height: 32px;\n",
              "      padding: 0 0 0 0;\n",
              "      width: 32px;\n",
              "    }\n",
              "\n",
              "    .colab-df-convert:hover {\n",
              "      background-color: #E2EBFA;\n",
              "      box-shadow: 0px 1px 2px rgba(60, 64, 67, 0.3), 0px 1px 3px 1px rgba(60, 64, 67, 0.15);\n",
              "      fill: #174EA6;\n",
              "    }\n",
              "\n",
              "    [theme=dark] .colab-df-convert {\n",
              "      background-color: #3B4455;\n",
              "      fill: #D2E3FC;\n",
              "    }\n",
              "\n",
              "    [theme=dark] .colab-df-convert:hover {\n",
              "      background-color: #434B5C;\n",
              "      box-shadow: 0px 1px 3px 1px rgba(0, 0, 0, 0.15);\n",
              "      filter: drop-shadow(0px 1px 2px rgba(0, 0, 0, 0.3));\n",
              "      fill: #FFFFFF;\n",
              "    }\n",
              "  </style>\n",
              "\n",
              "      <script>\n",
              "        const buttonEl =\n",
              "          document.querySelector('#df-4f45bbac-a59f-4db1-8931-7e190ef8cc79 button.colab-df-convert');\n",
              "        buttonEl.style.display =\n",
              "          google.colab.kernel.accessAllowed ? 'block' : 'none';\n",
              "\n",
              "        async function convertToInteractive(key) {\n",
              "          const element = document.querySelector('#df-4f45bbac-a59f-4db1-8931-7e190ef8cc79');\n",
              "          const dataTable =\n",
              "            await google.colab.kernel.invokeFunction('convertToInteractive',\n",
              "                                                     [key], {});\n",
              "          if (!dataTable) return;\n",
              "\n",
              "          const docLinkHtml = 'Like what you see? Visit the ' +\n",
              "            '<a target=\"_blank\" href=https://colab.research.google.com/notebooks/data_table.ipynb>data table notebook</a>'\n",
              "            + ' to learn more about interactive tables.';\n",
              "          element.innerHTML = '';\n",
              "          dataTable['output_type'] = 'display_data';\n",
              "          await google.colab.output.renderOutput(dataTable, element);\n",
              "          const docLink = document.createElement('div');\n",
              "          docLink.innerHTML = docLinkHtml;\n",
              "          element.appendChild(docLink);\n",
              "        }\n",
              "      </script>\n",
              "    </div>\n",
              "  </div>\n",
              "  "
            ]
          },
          "metadata": {},
          "execution_count": 33
        }
      ]
    },
    {
      "cell_type": "code",
      "source": [
        "pd.crosstab(df.Drug,df.Cholesterol).plot(kind=\"bar\",figsize=(9,5),color=['#003f5c','#ffa600','#58508d','#bc5090','#ff6361'])\n",
        "plt.title('Drug type based on Cholesterol distribution')\n",
        "plt.xlabel('Drugs')\n",
        "plt.xticks(rotation=0)\n",
        "plt.ylabel('Frequency')\n",
        "plt.show()"
      ],
      "metadata": {
        "colab": {
          "base_uri": "https://localhost:8080/",
          "height": 350
        },
        "id": "_cJ6h11TcTC4",
        "outputId": "9b7af976-3fd9-4552-94be-0106479c8b23"
      },
      "id": "_cJ6h11TcTC4",
      "execution_count": null,
      "outputs": [
        {
          "output_type": "display_data",
          "data": {
            "text/plain": [
              "<Figure size 648x360 with 1 Axes>"
            ],
            "image/png": "[encoded data removed]"
          },
          "metadata": {
            "needs_background": "light"
          }
        }
      ]
    },
    {
      "cell_type": "markdown",
      "source": [
        "1. drugC is got by people who have HIGH cholesterol only.\n",
        "2. Cholesterol is an important feature to classify drugC"
      ],
      "metadata": {
        "id": "xuT3Mk8GckJz"
      },
      "id": "xuT3Mk8GckJz"
    },
    {
      "cell_type": "markdown",
      "source": [
        "DrugB is taken only by older than 51 years old.\n",
        "DrugA is taken only by younger than 50 years old."
      ],
      "metadata": {
        "id": "UDAzDVIepA08"
      },
      "id": "UDAzDVIepA08"
    },
    {
      "cell_type": "markdown",
      "source": [
        "Drug Type Distribution"
      ],
      "metadata": {
        "id": "s19BBnMo5AxR"
      },
      "id": "s19BBnMo5AxR"
    },
    {
      "cell_type": "code",
      "source": [
        "plt.figure(figsize = (9,5))\n",
        "sns.countplot(df.Drug)\n",
        "plt.show()"
      ],
      "metadata": {
        "id": "1EEwa7_emWeh",
        "colab": {
          "base_uri": "https://localhost:8080/",
          "height": 334
        },
        "outputId": "369eb514-10b3-47ec-e4d9-4d5aca33c74f"
      },
      "id": "1EEwa7_emWeh",
      "execution_count": null,
      "outputs": [
        {
          "output_type": "display_data",
          "data": {
            "text/plain": [
              "<Figure size 648x360 with 1 Axes>"
            ],
            "image/png": "[encoded data removed]"
          },
          "metadata": {
            "needs_background": "light"
          }
        }
      ]
    },
    {
      "cell_type": "code",
      "source": [
        "keys=['DrugY','drugX','drugA','drugC','drugB']\n",
        "plt.pie(df['Drug'].value_counts(),labels=keys,autopct='%.2f%%')\n",
        "plt.show()"
      ],
      "metadata": {
        "colab": {
          "base_uri": "https://localhost:8080/",
          "height": 248
        },
        "id": "PeihqLDVT1cF",
        "outputId": "fad7016a-a246-438e-fe3f-51c86a418d73"
      },
      "id": "PeihqLDVT1cF",
      "execution_count": null,
      "outputs": [
        {
          "output_type": "display_data",
          "data": {
            "text/plain": [
              "<Figure size 432x288 with 1 Axes>"
            ],
            "image/png": "[encoded data removed]"
          },
          "metadata": {}
        }
      ]
    },
    {
      "cell_type": "markdown",
      "source": [
        "# Label Encoding\n",
        "\n",
        "We will convert from object to int64\n",
        "\n",
        "Sex,\n",
        "BP,\n",
        "Cholesterol,\n",
        "Na_to_K\n"
      ],
      "metadata": {
        "id": "ny1O_qOruquu"
      },
      "id": "ny1O_qOruquu"
    },
    {
      "cell_type": "code",
      "source": [
        "from sklearn.preprocessing import LabelEncoder\n",
        "\n",
        "def label_encoder(y):\n",
        "    le = LabelEncoder()\n",
        "    df[y] = le.fit_transform(df[y])"
      ],
      "metadata": {
        "id": "oKdk8NV7uzZ-"
      },
      "id": "oKdk8NV7uzZ-",
      "execution_count": null,
      "outputs": []
    },
    {
      "cell_type": "code",
      "source": [
        "label_list = [\"BP\",\"Cholesterol\",\"Na_to_K\",\"Na_to_K_Bigger_Than_15\",\"Drug\"]\n",
        "\n",
        "for l in label_list:\n",
        "    label_encoder(l)"
      ],
      "metadata": {
        "id": "ZWXiDHxZu6lq"
      },
      "id": "ZWXiDHxZu6lq",
      "execution_count": null,
      "outputs": []
    },
    {
      "cell_type": "code",
      "source": [
        "df.head()"
      ],
      "metadata": {
        "colab": {
          "base_uri": "https://localhost:8080/",
          "height": 206
        },
        "id": "qC8JBB_7vGlq",
        "outputId": "cab4e040-b0b6-4391-bd4d-79260506ae5f"
      },
      "id": "qC8JBB_7vGlq",
      "execution_count": null,
      "outputs": [
        {
          "output_type": "execute_result",
          "data": {
            "text/plain": [
              "   Age Sex  BP  Cholesterol  Na_to_K  Drug  Na_to_K_Bigger_Than_15\n",
              "0   23   F   0            0      167     0                       1\n",
              "1   47   M   1            0       89     3                       0\n",
              "2   47   M   1            0       43     3                       0\n",
              "3   28   F   2            0       10     4                       0\n",
              "4   61   F   1            0      133     0                       1"
            ],
            "text/html": [
              "\n",
              "  <div id=\"df-a83cdb1c-0bf3-4b2a-9224-4cafd9c4aa32\">\n",
              "    <div class=\"colab-df-container\">\n",
              "      <div>\n",
              "<style scoped>\n",
              "    .dataframe tbody tr th:only-of-type {\n",
              "        vertical-align: middle;\n",
              "    }\n",
              "\n",
              "    .dataframe tbody tr th {\n",
              "        vertical-align: top;\n",
              "    }\n",
              "\n",
              "    .dataframe thead th {\n",
              "        text-align: right;\n",
              "    }\n",
              "</style>\n",
              "<table border=\"1\" class=\"dataframe\">\n",
              "  <thead>\n",
              "    <tr style=\"text-align: right;\">\n",
              "      <th></th>\n",
              "      <th>Age</th>\n",
              "      <th>Sex</th>\n",
              "      <th>BP</th>\n",
              "      <th>Cholesterol</th>\n",
              "      <th>Na_to_K</th>\n",
              "      <th>Drug</th>\n",
              "      <th>Na_to_K_Bigger_Than_15</th>\n",
              "    </tr>\n",
              "  </thead>\n",
              "  <tbody>\n",
              "    <tr>\n",
              "      <th>0</th>\n",
              "      <td>23</td>\n",
              "      <td>F</td>\n",
              "      <td>0</td>\n",
              "      <td>0</td>\n",
              "      <td>167</td>\n",
              "      <td>0</td>\n",
              "      <td>1</td>\n",
              "    </tr>\n",
              "    <tr>\n",
              "      <th>1</th>\n",
              "      <td>47</td>\n",
              "      <td>M</td>\n",
              "      <td>1</td>\n",
              "      <td>0</td>\n",
              "      <td>89</td>\n",
              "      <td>3</td>\n",
              "      <td>0</td>\n",
              "    </tr>\n",
              "    <tr>\n",
              "      <th>2</th>\n",
              "      <td>47</td>\n",
              "      <td>M</td>\n",
              "      <td>1</td>\n",
              "      <td>0</td>\n",
              "      <td>43</td>\n",
              "      <td>3</td>\n",
              "      <td>0</td>\n",
              "    </tr>\n",
              "    <tr>\n",
              "      <th>3</th>\n",
              "      <td>28</td>\n",
              "      <td>F</td>\n",
              "      <td>2</td>\n",
              "      <td>0</td>\n",
              "      <td>10</td>\n",
              "      <td>4</td>\n",
              "      <td>0</td>\n",
              "    </tr>\n",
              "    <tr>\n",
              "      <th>4</th>\n",
              "      <td>61</td>\n",
              "      <td>F</td>\n",
              "      <td>1</td>\n",
              "      <td>0</td>\n",
              "      <td>133</td>\n",
              "      <td>0</td>\n",
              "      <td>1</td>\n",
              "    </tr>\n",
              "  </tbody>\n",
              "</table>\n",
              "</div>\n",
              "      <button class=\"colab-df-convert\" onclick=\"convertToInteractive('df-a83cdb1c-0bf3-4b2a-9224-4cafd9c4aa32')\"\n",
              "              title=\"Convert this dataframe to an interactive table.\"\n",
              "              style=\"display:none;\">\n",
              "        \n",
              "  <svg xmlns=\"http://www.w3.org/2000/svg\" height=\"24px\"viewBox=\"0 0 24 24\"\n",
              "       width=\"24px\">\n",
              "    <path d=\"M0 0h24v24H0V0z\" fill=\"none\"/>\n",
              "    <path d=\"M18.56 5.44l.94 2.06.94-2.06 2.06-.94-2.06-.94-.94-2.06-.94 2.06-2.06.94zm-11 1L8.5 8.5l.94-2.06 2.06-.94-2.06-.94L8.5 2.5l-.94 2.06-2.06.94zm10 10l.94 2.06.94-2.06 2.06-.94-2.06-.94-.94-2.06-.94 2.06-2.06.94z\"/><path d=\"M17.41 7.96l-1.37-1.37c-.4-.4-.92-.59-1.43-.59-.52 0-1.04.2-1.43.59L10.3 9.45l-7.72 7.72c-.78.78-.78 2.05 0 2.83L4 21.41c.39.39.9.59 1.41.59.51 0 1.02-.2 1.41-.59l7.78-7.78 2.81-2.81c.8-.78.8-2.07 0-2.86zM5.41 20L4 18.59l7.72-7.72 1.47 1.35L5.41 20z\"/>\n",
              "  </svg>\n",
              "      </button>\n",
              "      \n",
              "  <style>\n",
              "    .colab-df-container {\n",
              "      display:flex;\n",
              "      flex-wrap:wrap;\n",
              "      gap: 12px;\n",
              "    }\n",
              "\n",
              "    .colab-df-convert {\n",
              "      background-color: #E8F0FE;\n",
              "      border: none;\n",
              "      border-radius: 50%;\n",
              "      cursor: pointer;\n",
              "      display: none;\n",
              "      fill: #1967D2;\n",
              "      height: 32px;\n",
              "      padding: 0 0 0 0;\n",
              "      width: 32px;\n",
              "    }\n",
              "\n",
              "    .colab-df-convert:hover {\n",
              "      background-color: #E2EBFA;\n",
              "      box-shadow: 0px 1px 2px rgba(60, 64, 67, 0.3), 0px 1px 3px 1px rgba(60, 64, 67, 0.15);\n",
              "      fill: #174EA6;\n",
              "    }\n",
              "\n",
              "    [theme=dark] .colab-df-convert {\n",
              "      background-color: #3B4455;\n",
              "      fill: #D2E3FC;\n",
              "    }\n",
              "\n",
              "    [theme=dark] .colab-df-convert:hover {\n",
              "      background-color: #434B5C;\n",
              "      box-shadow: 0px 1px 3px 1px rgba(0, 0, 0, 0.15);\n",
              "      filter: drop-shadow(0px 1px 2px rgba(0, 0, 0, 0.3));\n",
              "      fill: #FFFFFF;\n",
              "    }\n",
              "  </style>\n",
              "\n",
              "      <script>\n",
              "        const buttonEl =\n",
              "          document.querySelector('#df-a83cdb1c-0bf3-4b2a-9224-4cafd9c4aa32 button.colab-df-convert');\n",
              "        buttonEl.style.display =\n",
              "          google.colab.kernel.accessAllowed ? 'block' : 'none';\n",
              "\n",
              "        async function convertToInteractive(key) {\n",
              "          const element = document.querySelector('#df-a83cdb1c-0bf3-4b2a-9224-4cafd9c4aa32');\n",
              "          const dataTable =\n",
              "            await google.colab.kernel.invokeFunction('convertToInteractive',\n",
              "                                                     [key], {});\n",
              "          if (!dataTable) return;\n",
              "\n",
              "          const docLinkHtml = 'Like what you see? Visit the ' +\n",
              "            '<a target=\"_blank\" href=https://colab.research.google.com/notebooks/data_table.ipynb>data table notebook</a>'\n",
              "            + ' to learn more about interactive tables.';\n",
              "          element.innerHTML = '';\n",
              "          dataTable['output_type'] = 'display_data';\n",
              "          await google.colab.output.renderOutput(dataTable, element);\n",
              "          const docLink = document.createElement('div');\n",
              "          docLink.innerHTML = docLinkHtml;\n",
              "          element.appendChild(docLink);\n",
              "        }\n",
              "      </script>\n",
              "    </div>\n",
              "  </div>\n",
              "  "
            ]
          },
          "metadata": {},
          "execution_count": 39
        }
      ]
    },
    {
      "cell_type": "markdown",
      "source": [
        "One Hot Encoding : on non ordinal data"
      ],
      "metadata": {
        "id": "n6zZVoIFj9XQ"
      },
      "id": "n6zZVoIFj9XQ"
    },
    {
      "cell_type": "code",
      "source": [
        "df = pd.get_dummies(df, drop_first = True)"
      ],
      "metadata": {
        "id": "7DezNyoSjiZr"
      },
      "id": "7DezNyoSjiZr",
      "execution_count": null,
      "outputs": []
    },
    {
      "cell_type": "code",
      "source": [
        "df.head()"
      ],
      "metadata": {
        "colab": {
          "base_uri": "https://localhost:8080/",
          "height": 206
        },
        "id": "0lHUsKbTkDEB",
        "outputId": "262307b5-2b89-4ef6-b478-7d320ecfdabd"
      },
      "id": "0lHUsKbTkDEB",
      "execution_count": null,
      "outputs": [
        {
          "output_type": "execute_result",
          "data": {
            "text/plain": [
              "   Age  BP  Cholesterol  Na_to_K  Drug  Na_to_K_Bigger_Than_15  Sex_M\n",
              "0   23   0            0      167     0                       1      0\n",
              "1   47   1            0       89     3                       0      1\n",
              "2   47   1            0       43     3                       0      1\n",
              "3   28   2            0       10     4                       0      0\n",
              "4   61   1            0      133     0                       1      0"
            ],
            "text/html": [
              "\n",
              "  <div id=\"df-e5541449-678e-41b9-8d65-db4e240bde4e\">\n",
              "    <div class=\"colab-df-container\">\n",
              "      <div>\n",
              "<style scoped>\n",
              "    .dataframe tbody tr th:only-of-type {\n",
              "        vertical-align: middle;\n",
              "    }\n",
              "\n",
              "    .dataframe tbody tr th {\n",
              "        vertical-align: top;\n",
              "    }\n",
              "\n",
              "    .dataframe thead th {\n",
              "        text-align: right;\n",
              "    }\n",
              "</style>\n",
              "<table border=\"1\" class=\"dataframe\">\n",
              "  <thead>\n",
              "    <tr style=\"text-align: right;\">\n",
              "      <th></th>\n",
              "      <th>Age</th>\n",
              "      <th>BP</th>\n",
              "      <th>Cholesterol</th>\n",
              "      <th>Na_to_K</th>\n",
              "      <th>Drug</th>\n",
              "      <th>Na_to_K_Bigger_Than_15</th>\n",
              "      <th>Sex_M</th>\n",
              "    </tr>\n",
              "  </thead>\n",
              "  <tbody>\n",
              "    <tr>\n",
              "      <th>0</th>\n",
              "      <td>23</td>\n",
              "      <td>0</td>\n",
              "      <td>0</td>\n",
              "      <td>167</td>\n",
              "      <td>0</td>\n",
              "      <td>1</td>\n",
              "      <td>0</td>\n",
              "    </tr>\n",
              "    <tr>\n",
              "      <th>1</th>\n",
              "      <td>47</td>\n",
              "      <td>1</td>\n",
              "      <td>0</td>\n",
              "      <td>89</td>\n",
              "      <td>3</td>\n",
              "      <td>0</td>\n",
              "      <td>1</td>\n",
              "    </tr>\n",
              "    <tr>\n",
              "      <th>2</th>\n",
              "      <td>47</td>\n",
              "      <td>1</td>\n",
              "      <td>0</td>\n",
              "      <td>43</td>\n",
              "      <td>3</td>\n",
              "      <td>0</td>\n",
              "      <td>1</td>\n",
              "    </tr>\n",
              "    <tr>\n",
              "      <th>3</th>\n",
              "      <td>28</td>\n",
              "      <td>2</td>\n",
              "      <td>0</td>\n",
              "      <td>10</td>\n",
              "      <td>4</td>\n",
              "      <td>0</td>\n",
              "      <td>0</td>\n",
              "    </tr>\n",
              "    <tr>\n",
              "      <th>4</th>\n",
              "      <td>61</td>\n",
              "      <td>1</td>\n",
              "      <td>0</td>\n",
              "      <td>133</td>\n",
              "      <td>0</td>\n",
              "      <td>1</td>\n",
              "      <td>0</td>\n",
              "    </tr>\n",
              "  </tbody>\n",
              "</table>\n",
              "</div>\n",
              "      <button class=\"colab-df-convert\" onclick=\"convertToInteractive('df-e5541449-678e-41b9-8d65-db4e240bde4e')\"\n",
              "              title=\"Convert this dataframe to an interactive table.\"\n",
              "              style=\"display:none;\">\n",
              "        \n",
              "  <svg xmlns=\"http://www.w3.org/2000/svg\" height=\"24px\"viewBox=\"0 0 24 24\"\n",
              "       width=\"24px\">\n",
              "    <path d=\"M0 0h24v24H0V0z\" fill=\"none\"/>\n",
              "    <path d=\"M18.56 5.44l.94 2.06.94-2.06 2.06-.94-2.06-.94-.94-2.06-.94 2.06-2.06.94zm-11 1L8.5 8.5l.94-2.06 2.06-.94-2.06-.94L8.5 2.5l-.94 2.06-2.06.94zm10 10l.94 2.06.94-2.06 2.06-.94-2.06-.94-.94-2.06-.94 2.06-2.06.94z\"/><path d=\"M17.41 7.96l-1.37-1.37c-.4-.4-.92-.59-1.43-.59-.52 0-1.04.2-1.43.59L10.3 9.45l-7.72 7.72c-.78.78-.78 2.05 0 2.83L4 21.41c.39.39.9.59 1.41.59.51 0 1.02-.2 1.41-.59l7.78-7.78 2.81-2.81c.8-.78.8-2.07 0-2.86zM5.41 20L4 18.59l7.72-7.72 1.47 1.35L5.41 20z\"/>\n",
              "  </svg>\n",
              "      </button>\n",
              "      \n",
              "  <style>\n",
              "    .colab-df-container {\n",
              "      display:flex;\n",
              "      flex-wrap:wrap;\n",
              "      gap: 12px;\n",
              "    }\n",
              "\n",
              "    .colab-df-convert {\n",
              "      background-color: #E8F0FE;\n",
              "      border: none;\n",
              "      border-radius: 50%;\n",
              "      cursor: pointer;\n",
              "      display: none;\n",
              "      fill: #1967D2;\n",
              "      height: 32px;\n",
              "      padding: 0 0 0 0;\n",
              "      width: 32px;\n",
              "    }\n",
              "\n",
              "    .colab-df-convert:hover {\n",
              "      background-color: #E2EBFA;\n",
              "      box-shadow: 0px 1px 2px rgba(60, 64, 67, 0.3), 0px 1px 3px 1px rgba(60, 64, 67, 0.15);\n",
              "      fill: #174EA6;\n",
              "    }\n",
              "\n",
              "    [theme=dark] .colab-df-convert {\n",
              "      background-color: #3B4455;\n",
              "      fill: #D2E3FC;\n",
              "    }\n",
              "\n",
              "    [theme=dark] .colab-df-convert:hover {\n",
              "      background-color: #434B5C;\n",
              "      box-shadow: 0px 1px 3px 1px rgba(0, 0, 0, 0.15);\n",
              "      filter: drop-shadow(0px 1px 2px rgba(0, 0, 0, 0.3));\n",
              "      fill: #FFFFFF;\n",
              "    }\n",
              "  </style>\n",
              "\n",
              "      <script>\n",
              "        const buttonEl =\n",
              "          document.querySelector('#df-e5541449-678e-41b9-8d65-db4e240bde4e button.colab-df-convert');\n",
              "        buttonEl.style.display =\n",
              "          google.colab.kernel.accessAllowed ? 'block' : 'none';\n",
              "\n",
              "        async function convertToInteractive(key) {\n",
              "          const element = document.querySelector('#df-e5541449-678e-41b9-8d65-db4e240bde4e');\n",
              "          const dataTable =\n",
              "            await google.colab.kernel.invokeFunction('convertToInteractive',\n",
              "                                                     [key], {});\n",
              "          if (!dataTable) return;\n",
              "\n",
              "          const docLinkHtml = 'Like what you see? Visit the ' +\n",
              "            '<a target=\"_blank\" href=https://colab.research.google.com/notebooks/data_table.ipynb>data table notebook</a>'\n",
              "            + ' to learn more about interactive tables.';\n",
              "          element.innerHTML = '';\n",
              "          dataTable['output_type'] = 'display_data';\n",
              "          await google.colab.output.renderOutput(dataTable, element);\n",
              "          const docLink = document.createElement('div');\n",
              "          docLink.innerHTML = docLinkHtml;\n",
              "          element.appendChild(docLink);\n",
              "        }\n",
              "      </script>\n",
              "    </div>\n",
              "  </div>\n",
              "  "
            ]
          },
          "metadata": {},
          "execution_count": 41
        }
      ]
    },
    {
      "cell_type": "code",
      "source": [
        "from sklearn.model_selection import train_test_split\n",
        "\n",
        "x = df.drop([\"Drug\"],axis=1)\n",
        "y = df.Drug\n",
        "\n",
        "x_train, x_test, y_train, y_test = train_test_split(x,y,test_size = 0.33, random_state = 1)"
      ],
      "metadata": {
        "id": "A-wFyoKsw1Sf"
      },
      "id": "A-wFyoKsw1Sf",
      "execution_count": null,
      "outputs": []
    },
    {
      "cell_type": "code",
      "source": [
        "print(\"x_train shape:\",x_train.shape)\n",
        "print(\"x_test shape:\",x_test.shape)\n",
        "print(\"y_train shape:\",y_train.shape)\n",
        "print(\"y_test shape:\",y_test.shape)"
      ],
      "metadata": {
        "colab": {
          "base_uri": "https://localhost:8080/"
        },
        "id": "6hUMBuUFw_5e",
        "outputId": "2b83f517-9475-4256-bfe6-693e600565b0"
      },
      "id": "6hUMBuUFw_5e",
      "execution_count": null,
      "outputs": [
        {
          "output_type": "stream",
          "name": "stdout",
          "text": [
            "x_train shape: (134, 6)\n",
            "x_test shape: (66, 6)\n",
            "y_train shape: (134,)\n",
            "y_test shape: (66,)\n"
          ]
        }
      ]
    },
    {
      "cell_type": "markdown",
      "source": [
        "# Fix Imbalance Data"
      ],
      "metadata": {
        "id": "y7tvDQqz_eBl"
      },
      "id": "y7tvDQqz_eBl"
    },
    {
      "cell_type": "code",
      "source": [
        "smote = SMOTE()"
      ],
      "metadata": {
        "id": "3dDaD_-yxRae"
      },
      "id": "3dDaD_-yxRae",
      "execution_count": null,
      "outputs": []
    },
    {
      "cell_type": "code",
      "source": [
        "x_train , y_train = smote.fit_resample(x_train , y_train)"
      ],
      "metadata": {
        "id": "w-eIucCoxKgb"
      },
      "id": "w-eIucCoxKgb",
      "execution_count": null,
      "outputs": []
    },
    {
      "cell_type": "markdown",
      "source": [
        "#Model implementation"
      ],
      "metadata": {
        "id": "fho8hVADQZAh"
      },
      "id": "fho8hVADQZAh"
    },
    {
      "cell_type": "markdown",
      "source": [
        "# 1.Logistic Regression"
      ],
      "metadata": {
        "id": "zwd6XtAZ3C4c"
      },
      "id": "zwd6XtAZ3C4c"
    },
    {
      "cell_type": "code",
      "source": [
        "lr = LogisticRegression()"
      ],
      "metadata": {
        "id": "krOS7nxjxiKX"
      },
      "id": "krOS7nxjxiKX",
      "execution_count": null,
      "outputs": []
    },
    {
      "cell_type": "code",
      "source": [
        "lr.fit(x_train , y_train)"
      ],
      "metadata": {
        "colab": {
          "base_uri": "https://localhost:8080/"
        },
        "id": "44gXddPAx275",
        "outputId": "674f970c-c406-4b72-8ce9-917a0fb87bea"
      },
      "id": "44gXddPAx275",
      "execution_count": null,
      "outputs": [
        {
          "output_type": "execute_result",
          "data": {
            "text/plain": [
              "LogisticRegression()"
            ]
          },
          "metadata": {},
          "execution_count": 47
        }
      ]
    },
    {
      "cell_type": "code",
      "source": [
        "prediction_test = lr.predict(x_test)"
      ],
      "metadata": {
        "id": "kgh0xExex9gh"
      },
      "id": "kgh0xExex9gh",
      "execution_count": null,
      "outputs": []
    },
    {
      "cell_type": "code",
      "source": [
        "prediction_train = lr.predict(x_train)"
      ],
      "metadata": {
        "id": "bueBPsAP9Tp1"
      },
      "id": "bueBPsAP9Tp1",
      "execution_count": null,
      "outputs": []
    },
    {
      "cell_type": "code",
      "source": [
        "lrac_train=accuracy_score(y_test , prediction_test)"
      ],
      "metadata": {
        "id": "uq3ZDhpOyCCa"
      },
      "id": "uq3ZDhpOyCCa",
      "execution_count": null,
      "outputs": []
    },
    {
      "cell_type": "code",
      "source": [
        "lrac_test=accuracy_score(y_train , prediction_train)"
      ],
      "metadata": {
        "id": "R7A2ElCT9Zgz"
      },
      "id": "R7A2ElCT9Zgz",
      "execution_count": null,
      "outputs": []
    },
    {
      "cell_type": "code",
      "source": [
        "print(classification_report(y_test , prediction_test))"
      ],
      "metadata": {
        "colab": {
          "base_uri": "https://localhost:8080/"
        },
        "id": "Po-ZB4Mg0Bwc",
        "outputId": "4f5b6d62-e765-4e69-da65-819f73f22da3"
      },
      "id": "Po-ZB4Mg0Bwc",
      "execution_count": null,
      "outputs": [
        {
          "output_type": "stream",
          "name": "stdout",
          "text": [
            "              precision    recall  f1-score   support\n",
            "\n",
            "           0       1.00      0.96      0.98        28\n",
            "           1       0.71      0.83      0.77         6\n",
            "           2       0.67      0.67      0.67         6\n",
            "           3       1.00      0.75      0.86         4\n",
            "           4       0.96      1.00      0.98        22\n",
            "\n",
            "    accuracy                           0.92        66\n",
            "   macro avg       0.87      0.84      0.85        66\n",
            "weighted avg       0.93      0.92      0.92        66\n",
            "\n"
          ]
        }
      ]
    },
    {
      "cell_type": "code",
      "source": [
        "print(classification_report(y_train , prediction_train))"
      ],
      "metadata": {
        "colab": {
          "base_uri": "https://localhost:8080/"
        },
        "id": "EWFKShm19pi3",
        "outputId": "9965f5d9-4e08-46fc-b7e4-dfb38e153cbf"
      },
      "id": "EWFKShm19pi3",
      "execution_count": null,
      "outputs": [
        {
          "output_type": "stream",
          "name": "stdout",
          "text": [
            "              precision    recall  f1-score   support\n",
            "\n",
            "           0       1.00      0.98      0.99        63\n",
            "           1       1.00      1.00      1.00        63\n",
            "           2       0.98      1.00      0.99        63\n",
            "           3       0.86      0.98      0.92        63\n",
            "           4       0.98      0.84      0.91        63\n",
            "\n",
            "    accuracy                           0.96       315\n",
            "   macro avg       0.97      0.96      0.96       315\n",
            "weighted avg       0.97      0.96      0.96       315\n",
            "\n"
          ]
        }
      ]
    },
    {
      "cell_type": "code",
      "source": [
        "print(confusion_matrix(y_test, prediction_test))"
      ],
      "metadata": {
        "colab": {
          "base_uri": "https://localhost:8080/"
        },
        "id": "ImYkC-K9-WvN",
        "outputId": "10d16a36-50bb-4169-f855-bde2095ae7ea"
      },
      "id": "ImYkC-K9-WvN",
      "execution_count": null,
      "outputs": [
        {
          "output_type": "stream",
          "name": "stdout",
          "text": [
            "[[27  0  0  0  1]\n",
            " [ 0  5  1  0  0]\n",
            " [ 0  2  4  0  0]\n",
            " [ 0  0  1  3  0]\n",
            " [ 0  0  0  0 22]]\n"
          ]
        }
      ]
    },
    {
      "cell_type": "markdown",
      "source": [
        "# 3.K Neighbours\n",
        "\n"
      ],
      "metadata": {
        "id": "5lH3aQcx4Hea"
      },
      "id": "5lH3aQcx4Hea"
    },
    {
      "cell_type": "code",
      "source": [
        "KNclassifier = KNeighborsClassifier()\n",
        "KNclassifier.fit(x_train, y_train)\n",
        "y_pred_test = KNclassifier.predict(x_test)\n",
        "y_pred_train = KNclassifier.predict(x_train)\n",
        "print(classification_report(y_test, y_pred_test))\n",
        "print(classification_report(y_train, y_pred_train))\n",
        "print()\n",
        "print(confusion_matrix(y_test, y_pred_test))\n",
        "print()\n",
        "KNAcc_test = accuracy_score(y_pred_test,y_test)\n",
        "KNAcc_train = accuracy_score(y_pred_test,y_test)\n",
        "print()\n"
      ],
      "metadata": {
        "colab": {
          "base_uri": "https://localhost:8080/"
        },
        "id": "WQH13Td9qfyp",
        "outputId": "c587425c-184b-4168-fd2f-c7e99dcbfa28"
      },
      "id": "WQH13Td9qfyp",
      "execution_count": null,
      "outputs": [
        {
          "output_type": "stream",
          "name": "stdout",
          "text": [
            "              precision    recall  f1-score   support\n",
            "\n",
            "           0       1.00      0.96      0.98        28\n",
            "           1       0.10      0.17      0.12         6\n",
            "           2       0.30      0.50      0.37         6\n",
            "           3       0.08      0.25      0.12         4\n",
            "           4       0.57      0.18      0.28        22\n",
            "\n",
            "    accuracy                           0.55        66\n",
            "   macro avg       0.41      0.41      0.38        66\n",
            "weighted avg       0.66      0.55      0.56        66\n",
            "\n",
            "              precision    recall  f1-score   support\n",
            "\n",
            "           0       1.00      0.98      0.99        63\n",
            "           1       0.80      0.83      0.81        63\n",
            "           2       0.85      0.97      0.90        63\n",
            "           3       0.79      0.84      0.82        63\n",
            "           4       0.82      0.63      0.71        63\n",
            "\n",
            "    accuracy                           0.85       315\n",
            "   macro avg       0.85      0.85      0.85       315\n",
            "weighted avg       0.85      0.85      0.85       315\n",
            "\n",
            "\n",
            "[[27  0  1  0  0]\n",
            " [ 0  1  0  3  2]\n",
            " [ 0  0  3  3  0]\n",
            " [ 0  1  1  1  1]\n",
            " [ 0  8  5  5  4]]\n",
            "\n",
            "\n"
          ]
        }
      ]
    },
    {
      "cell_type": "code",
      "source": [
        "grid = {'n_neighbors':np.arange(1,120),\n",
        "        'p':np.arange(1,3),\n",
        "        'weights':['uniform','distance']\n",
        "       }\n",
        "\n",
        "knn = KNeighborsClassifier(algorithm = \"auto\")\n",
        "knn_cv = GridSearchCV(knn,grid,cv=5)\n",
        "knn_cv.fit(x_train,y_train)\n",
        "\n",
        "print(\"Hyperparameters:\",knn_cv.best_params_)\n",
        "print(\"Train Score:\",knn_cv.best_score_)\n",
        "print(\"Test Score:\",knn_cv.score(x_test,y_test))\n"
      ],
      "metadata": {
        "colab": {
          "base_uri": "https://localhost:8080/"
        },
        "id": "ShFVuHeDPne6",
        "outputId": "b20b98a9-9b38-4ec3-8284-292edcfc9983"
      },
      "id": "ShFVuHeDPne6",
      "execution_count": null,
      "outputs": [
        {
          "output_type": "stream",
          "name": "stdout",
          "text": [
            "Hyperparameters: {'n_neighbors': 4, 'p': 1, 'weights': 'distance'}\n",
            "Train Score: 0.8539682539682539\n",
            "Test Score: 0.6212121212121212\n"
          ]
        }
      ]
    },
    {
      "cell_type": "code",
      "source": [
        "KNclassifier = KNeighborsClassifier(n_neighbors= 5, p= 1, weights= 'distance')\n",
        "KNclassifier.fit(x_train, y_train)\n",
        "y_pred_test = KNclassifier.predict(x_test)\n",
        "y_pred_train = KNclassifier.predict(x_train)\n",
        "print(classification_report(y_test, y_pred_test))\n",
        "print(classification_report(y_train, y_pred_train))\n",
        "print()\n",
        "print(confusion_matrix(y_test, y_pred_test))\n",
        "print()\n",
        "KNAcc_gs_test = accuracy_score(y_pred_test,y_test)\n",
        "KNAcc_gs_train= accuracy_score(y_pred_test,y_test)\n",
        "print()\n",
        "print(confusion_matrix(y_test, y_pred_test))"
      ],
      "metadata": {
        "colab": {
          "base_uri": "https://localhost:8080/"
        },
        "id": "D2gSBcFXQYqR",
        "outputId": "ded689be-deda-4988-fd0a-0dea8b077c86"
      },
      "id": "D2gSBcFXQYqR",
      "execution_count": null,
      "outputs": [
        {
          "output_type": "stream",
          "name": "stdout",
          "text": [
            "              precision    recall  f1-score   support\n",
            "\n",
            "           0       1.00      0.96      0.98        28\n",
            "           1       0.25      0.33      0.29         6\n",
            "           2       0.30      0.50      0.37         6\n",
            "           3       0.15      0.50      0.24         4\n",
            "           4       0.75      0.27      0.40        22\n",
            "\n",
            "    accuracy                           0.61        66\n",
            "   macro avg       0.49      0.51      0.46        66\n",
            "weighted avg       0.73      0.61      0.62        66\n",
            "\n",
            "              precision    recall  f1-score   support\n",
            "\n",
            "           0       1.00      1.00      1.00        63\n",
            "           1       1.00      1.00      1.00        63\n",
            "           2       1.00      1.00      1.00        63\n",
            "           3       1.00      1.00      1.00        63\n",
            "           4       1.00      1.00      1.00        63\n",
            "\n",
            "    accuracy                           1.00       315\n",
            "   macro avg       1.00      1.00      1.00       315\n",
            "weighted avg       1.00      1.00      1.00       315\n",
            "\n",
            "\n",
            "[[27  0  1  0  0]\n",
            " [ 0  2  0  3  1]\n",
            " [ 0  0  3  3  0]\n",
            " [ 0  0  1  2  1]\n",
            " [ 0  6  5  5  6]]\n",
            "\n",
            "\n",
            "[[27  0  1  0  0]\n",
            " [ 0  2  0  3  1]\n",
            " [ 0  0  3  3  0]\n",
            " [ 0  0  1  2  1]\n",
            " [ 0  6  5  5  6]]\n"
          ]
        }
      ]
    },
    {
      "cell_type": "markdown",
      "source": [
        "# 4.RandomForestClassifier"
      ],
      "metadata": {
        "id": "xtK_bsjS6pzU"
      },
      "id": "xtK_bsjS6pzU"
    },
    {
      "cell_type": "code",
      "source": [
        "RFclassifier = RandomForestClassifier()\n",
        "RFclassifier.fit(x_train, y_train)\n",
        "y_pred_test = RFclassifier.predict(x_test)\n",
        "y_pred_train = RFclassifier.predict(x_train)\n",
        "print(classification_report(y_test, y_pred_test))\n",
        "print(classification_report(y_train, y_pred_train))\n",
        "print()\n",
        "print(confusion_matrix(y_test, y_pred_test))\n",
        "print()\n",
        "RFAcc_test = accuracy_score(y_pred_test,y_test)\n",
        "RFAcc_train = accuracy_score(y_pred_train,y_train)\n",
        "print()\n",
        "print(confusion_matrix(y_test, y_pred_test))"
      ],
      "metadata": {
        "colab": {
          "base_uri": "https://localhost:8080/"
        },
        "id": "NOuNEvt82JdN",
        "outputId": "6affcad1-59b8-4077-c2e7-db452d154ef0"
      },
      "id": "NOuNEvt82JdN",
      "execution_count": null,
      "outputs": [
        {
          "output_type": "stream",
          "name": "stdout",
          "text": [
            "              precision    recall  f1-score   support\n",
            "\n",
            "           0       1.00      1.00      1.00        28\n",
            "           1       0.75      1.00      0.86         6\n",
            "           2       1.00      0.67      0.80         6\n",
            "           3       1.00      0.75      0.86         4\n",
            "           4       0.96      1.00      0.98        22\n",
            "\n",
            "    accuracy                           0.95        66\n",
            "   macro avg       0.94      0.88      0.90        66\n",
            "weighted avg       0.96      0.95      0.95        66\n",
            "\n",
            "              precision    recall  f1-score   support\n",
            "\n",
            "           0       1.00      1.00      1.00        63\n",
            "           1       1.00      1.00      1.00        63\n",
            "           2       1.00      1.00      1.00        63\n",
            "           3       1.00      1.00      1.00        63\n",
            "           4       1.00      1.00      1.00        63\n",
            "\n",
            "    accuracy                           1.00       315\n",
            "   macro avg       1.00      1.00      1.00       315\n",
            "weighted avg       1.00      1.00      1.00       315\n",
            "\n",
            "\n",
            "[[28  0  0  0  0]\n",
            " [ 0  6  0  0  0]\n",
            " [ 0  2  4  0  0]\n",
            " [ 0  0  0  3  1]\n",
            " [ 0  0  0  0 22]]\n",
            "\n",
            "\n",
            "[[28  0  0  0  0]\n",
            " [ 0  6  0  0  0]\n",
            " [ 0  2  4  0  0]\n",
            " [ 0  0  0  3  1]\n",
            " [ 0  0  0  0 22]]\n"
          ]
        }
      ]
    },
    {
      "cell_type": "code",
      "source": [
        "grid = {'n_estimators':[85,100],'min_samples_split':[15,20],'max_depth':[8,10],\n",
        "        'criterion':['gini','entropy']\n",
        "       }\n",
        "\n",
        "rf = RandomForestClassifier(random_state = 42)\n",
        "rf_cv = GridSearchCV(rf,grid,cv=5)\n",
        "rf_cv.fit(x_train,y_train)\n",
        "\n",
        "print(\"Hyperparameters:\",rf_cv.best_params_)\n",
        "print(\"Train Score:\",rf_cv.best_score_)\n",
        "print(\"Test Score:\",rf_cv.score(x_test,y_test))"
      ],
      "metadata": {
        "colab": {
          "base_uri": "https://localhost:8080/"
        },
        "id": "vc-H3RloTIgi",
        "outputId": "5de48b70-82a6-4c94-a4a6-2ba7b63451bb"
      },
      "id": "vc-H3RloTIgi",
      "execution_count": null,
      "outputs": [
        {
          "output_type": "stream",
          "name": "stdout",
          "text": [
            "Hyperparameters: {'criterion': 'gini', 'max_depth': 8, 'min_samples_split': 15, 'n_estimators': 85}\n",
            "Train Score: 0.9587301587301587\n",
            "Test Score: 0.9393939393939394\n"
          ]
        }
      ]
    },
    {
      "cell_type": "code",
      "source": [
        "RFclassifier = RandomForestClassifier(criterion= 'entropy', max_depth= 8, min_samples_split= 20, n_estimators= 85)\n",
        "RFclassifier.fit(x_train, y_train)\n",
        "y_pred_test = RFclassifier.predict(x_test)\n",
        "y_pred_train = RFclassifier.predict(x_train)\n",
        "print(classification_report(y_test, y_pred_test))\n",
        "print(classification_report(y_train, y_pred_train))\n",
        "print()\n",
        "print(confusion_matrix(y_test, y_pred_test))\n",
        "print()\n",
        "RFAcc_gs_test= accuracy_score(y_pred_test,y_test)\n",
        "RFAcc_gs_train= accuracy_score(y_pred_train,y_train)\n",
        "print()"
      ],
      "metadata": {
        "colab": {
          "base_uri": "https://localhost:8080/"
        },
        "id": "Ak1wIG--TuUv",
        "outputId": "23c9eeb9-840a-43c3-d269-23ff163b9bdf"
      },
      "id": "Ak1wIG--TuUv",
      "execution_count": null,
      "outputs": [
        {
          "output_type": "stream",
          "name": "stdout",
          "text": [
            "              precision    recall  f1-score   support\n",
            "\n",
            "           0       1.00      1.00      1.00        28\n",
            "           1       0.75      1.00      0.86         6\n",
            "           2       1.00      0.67      0.80         6\n",
            "           3       1.00      0.50      0.67         4\n",
            "           4       0.92      1.00      0.96        22\n",
            "\n",
            "    accuracy                           0.94        66\n",
            "   macro avg       0.93      0.83      0.86        66\n",
            "weighted avg       0.95      0.94      0.93        66\n",
            "\n",
            "              precision    recall  f1-score   support\n",
            "\n",
            "           0       1.00      1.00      1.00        63\n",
            "           1       1.00      1.00      1.00        63\n",
            "           2       1.00      1.00      1.00        63\n",
            "           3       0.89      0.98      0.93        63\n",
            "           4       0.98      0.87      0.92        63\n",
            "\n",
            "    accuracy                           0.97       315\n",
            "   macro avg       0.97      0.97      0.97       315\n",
            "weighted avg       0.97      0.97      0.97       315\n",
            "\n",
            "\n",
            "[[28  0  0  0  0]\n",
            " [ 0  6  0  0  0]\n",
            " [ 0  2  4  0  0]\n",
            " [ 0  0  0  2  2]\n",
            " [ 0  0  0  0 22]]\n",
            "\n",
            "\n"
          ]
        }
      ]
    },
    {
      "cell_type": "markdown",
      "source": [
        "#7.SVM Classifier RBF"
      ],
      "metadata": {
        "id": "uAgPfFeSC2r0"
      },
      "id": "uAgPfFeSC2r0"
    },
    {
      "cell_type": "code",
      "source": [
        "svclassifier=SVC(kernel='rbf')\n",
        "svclassifier.fit(x_train,y_train)\n",
        "y_pred_test=svclassifier.predict(x_test)\n",
        "y_pred_train=svclassifier.predict(x_train)\n",
        "print(classification_report(y_test,y_pred_test))\n",
        "print(classification_report(y_train,y_pred_train))\n",
        "svcrbf_train= accuracy_score(y_pred_test,y_test)\n",
        "svcrbf_test= accuracy_score(y_pred_train,y_train)\n",
        "print(confusion_matrix(y_test, y_pred_test))\n"
      ],
      "metadata": {
        "colab": {
          "base_uri": "https://localhost:8080/"
        },
        "id": "JPE_R35ECslM",
        "outputId": "a3f85203-3db1-4d34-a363-42d88e55cecc"
      },
      "id": "JPE_R35ECslM",
      "execution_count": null,
      "outputs": [
        {
          "output_type": "stream",
          "name": "stdout",
          "text": [
            "              precision    recall  f1-score   support\n",
            "\n",
            "           0       1.00      0.96      0.98        28\n",
            "           1       0.20      0.33      0.25         6\n",
            "           2       0.27      0.50      0.35         6\n",
            "           3       0.07      0.25      0.11         4\n",
            "           4       0.50      0.09      0.15        22\n",
            "\n",
            "    accuracy                           0.53        66\n",
            "   macro avg       0.41      0.43      0.37        66\n",
            "weighted avg       0.64      0.53      0.53        66\n",
            "\n",
            "              precision    recall  f1-score   support\n",
            "\n",
            "           0       1.00      0.94      0.97        63\n",
            "           1       0.49      0.54      0.52        63\n",
            "           2       0.75      0.92      0.83        63\n",
            "           3       0.62      0.79      0.69        63\n",
            "           4       0.62      0.29      0.39        63\n",
            "\n",
            "    accuracy                           0.70       315\n",
            "   macro avg       0.70      0.70      0.68       315\n",
            "weighted avg       0.70      0.70      0.68       315\n",
            "\n",
            "[[27  0  1  0  0]\n",
            " [ 0  2  0  3  1]\n",
            " [ 0  0  3  3  0]\n",
            " [ 0  1  1  1  1]\n",
            " [ 0  7  6  7  2]]\n"
          ]
        }
      ]
    },
    {
      "cell_type": "markdown",
      "source": [
        "#8. SVM Classifier Sigmoid"
      ],
      "metadata": {
        "id": "rRJg_OOZDGdI"
      },
      "id": "rRJg_OOZDGdI"
    },
    {
      "cell_type": "code",
      "source": [
        "svclassifier=SVC(kernel='sigmoid')\n",
        "svclassifier.fit(x_train,y_train)\n",
        "y_pred_test=svclassifier.predict(x_test)\n",
        "y_pred_train=svclassifier.predict(x_train)\n",
        "print(classification_report(y_test,y_pred_test))\n",
        "print(classification_report(y_train,y_pred_train))\n",
        "svcsig_train= accuracy_score(y_pred_test,y_test)\n",
        "svcsig_test= accuracy_score(y_pred_train,y_train)\n",
        "print(confusion_matrix(y_test, y_pred_test))\n"
      ],
      "metadata": {
        "colab": {
          "base_uri": "https://localhost:8080/"
        },
        "id": "loEK_BMvDPqa",
        "outputId": "acde7c34-50d4-4868-c851-e06624375c43"
      },
      "id": "loEK_BMvDPqa",
      "execution_count": null,
      "outputs": [
        {
          "output_type": "stream",
          "name": "stdout",
          "text": [
            "              precision    recall  f1-score   support\n",
            "\n",
            "           0       0.00      0.00      0.00        28\n",
            "           1       0.00      0.00      0.00         6\n",
            "           2       0.50      0.33      0.40         6\n",
            "           3       0.00      0.00      0.00         4\n",
            "           4       0.33      0.05      0.08        22\n",
            "\n",
            "    accuracy                           0.05        66\n",
            "   macro avg       0.17      0.08      0.10        66\n",
            "weighted avg       0.16      0.05      0.06        66\n",
            "\n",
            "              precision    recall  f1-score   support\n",
            "\n",
            "           0       0.04      0.10      0.05        63\n",
            "           1       0.32      0.10      0.15        63\n",
            "           2       0.65      0.24      0.35        63\n",
            "           3       0.00      0.00      0.00        63\n",
            "           4       0.65      0.17      0.28        63\n",
            "\n",
            "    accuracy                           0.12       315\n",
            "   macro avg       0.33      0.12      0.16       315\n",
            "weighted avg       0.33      0.12      0.16       315\n",
            "\n",
            "[[ 0  1  0 27  0]\n",
            " [ 5  0  0  0  1]\n",
            " [ 4  0  2  0  0]\n",
            " [ 2  1  0  0  1]\n",
            " [16  1  2  2  1]]\n"
          ]
        }
      ]
    },
    {
      "cell_type": "markdown",
      "source": [
        "#9.SVM Poly"
      ],
      "metadata": {
        "id": "2rtw4V7FDVUC"
      },
      "id": "2rtw4V7FDVUC"
    },
    {
      "cell_type": "code",
      "source": [
        "svclassifier=SVC(kernel='poly')\n",
        "svclassifier.fit(x_train,y_train)\n",
        "y_pred_test=svclassifier.predict(x_test)\n",
        "y_pred_train=svclassifier.predict(x_train)\n",
        "print(classification_report(y_test,y_pred_test))\n",
        "print(classification_report(y_train,y_pred_train))\n",
        "svcpoly_train= accuracy_score(y_pred_test,y_test)\n",
        "svcpoly_test= accuracy_score(y_pred_train,y_train)\n",
        "print(confusion_matrix(y_test, y_pred_test))\n"
      ],
      "metadata": {
        "colab": {
          "base_uri": "https://localhost:8080/"
        },
        "id": "WaTSYbFIDfAJ",
        "outputId": "c66a5f17-d83d-4a82-aa43-2ea9f81d43b9"
      },
      "id": "WaTSYbFIDfAJ",
      "execution_count": null,
      "outputs": [
        {
          "output_type": "stream",
          "name": "stdout",
          "text": [
            "              precision    recall  f1-score   support\n",
            "\n",
            "           0       1.00      1.00      1.00        28\n",
            "           1       0.23      0.50      0.32         6\n",
            "           2       0.42      0.83      0.56         6\n",
            "           3       0.09      0.25      0.13         4\n",
            "           4       0.00      0.00      0.00        22\n",
            "\n",
            "    accuracy                           0.56        66\n",
            "   macro avg       0.35      0.52      0.40        66\n",
            "weighted avg       0.49      0.56      0.51        66\n",
            "\n",
            "              precision    recall  f1-score   support\n",
            "\n",
            "           0       1.00      1.00      1.00        63\n",
            "           1       0.49      0.84      0.62        63\n",
            "           2       0.81      0.89      0.85        63\n",
            "           3       0.58      0.44      0.50        63\n",
            "           4       0.48      0.21      0.29        63\n",
            "\n",
            "    accuracy                           0.68       315\n",
            "   macro avg       0.67      0.68      0.65       315\n",
            "weighted avg       0.67      0.68      0.65       315\n",
            "\n",
            "[[28  0  0  0  0]\n",
            " [ 0  3  0  2  1]\n",
            " [ 0  0  5  1  0]\n",
            " [ 0  1  1  1  1]\n",
            " [ 0  9  6  7  0]]\n"
          ]
        }
      ]
    },
    {
      "cell_type": "markdown",
      "source": [
        "# 2.Decision Tree"
      ],
      "metadata": {
        "id": "AQ1ZNh0w32Nj"
      },
      "id": "AQ1ZNh0w32Nj"
    },
    {
      "cell_type": "code",
      "source": [
        "from sklearn.tree import DecisionTreeClassifier\n",
        "DTclassifier = DecisionTreeClassifier()\n",
        "DTclassifier.fit(x_train, y_train)\n",
        "y_pred_test = DTclassifier.predict(x_test)\n",
        "y_pred_train = DTclassifier.predict(x_train)\n",
        "print(classification_report(y_train, y_pred_train))\n",
        "print(classification_report(y_test, y_pred_test))\n",
        "print()\n",
        "DTAcc_train = accuracy_score(y_pred_test,y_test)\n",
        "DTAcc_test= accuracy_score(y_pred_train,y_train)\n",
        "print()\n",
        "print(confusion_matrix(y_test, y_pred_test))"
      ],
      "metadata": {
        "colab": {
          "base_uri": "https://localhost:8080/"
        },
        "id": "zermztWv0TbI",
        "outputId": "958b1756-1e1e-417f-e006-fd6e6756c803"
      },
      "id": "zermztWv0TbI",
      "execution_count": null,
      "outputs": [
        {
          "output_type": "stream",
          "name": "stdout",
          "text": [
            "              precision    recall  f1-score   support\n",
            "\n",
            "           0       1.00      1.00      1.00        63\n",
            "           1       1.00      1.00      1.00        63\n",
            "           2       1.00      1.00      1.00        63\n",
            "           3       1.00      1.00      1.00        63\n",
            "           4       1.00      1.00      1.00        63\n",
            "\n",
            "    accuracy                           1.00       315\n",
            "   macro avg       1.00      1.00      1.00       315\n",
            "weighted avg       1.00      1.00      1.00       315\n",
            "\n",
            "              precision    recall  f1-score   support\n",
            "\n",
            "           0       1.00      0.96      0.98        28\n",
            "           1       0.75      1.00      0.86         6\n",
            "           2       1.00      0.67      0.80         6\n",
            "           3       1.00      0.75      0.86         4\n",
            "           4       0.92      1.00      0.96        22\n",
            "\n",
            "    accuracy                           0.94        66\n",
            "   macro avg       0.93      0.88      0.89        66\n",
            "weighted avg       0.95      0.94      0.94        66\n",
            "\n",
            "\n",
            "\n",
            "[[27  0  0  0  1]\n",
            " [ 0  6  0  0  0]\n",
            " [ 0  2  4  0  0]\n",
            " [ 0  0  0  3  1]\n",
            " [ 0  0  0  0 22]]\n"
          ]
        }
      ]
    },
    {
      "cell_type": "markdown",
      "source": [
        "#Model Comparison"
      ],
      "metadata": {
        "id": "FekozQ3F7L8W"
      },
      "id": "FekozQ3F7L8W"
    },
    {
      "cell_type": "code",
      "source": [
        "compare = pd.DataFrame({'Model': ['Logistic Regression test', ' Decision Tree test',' K neighbours test',' K neighbours Grid Search test',' Random Forest test',' Random Forest Grid Search test','SVM rbf test','SVM Sigmoid test','SVM Poly test'], 'Accuracy': [lrac_test*100, DTAcc_test*100,KNAcc_test*100,KNAcc_gs_test*100,RFAcc_test*100,RFAcc_gs_test*100,svcrbf_test*100,svcsig_test*100,svcpoly_test*100] })\n",
        "compare.sort_values(by='Accuracy', ascending=False)"
      ],
      "metadata": {
        "colab": {
          "base_uri": "https://localhost:8080/"
        },
        "id": "8X92mPOR7JXH",
        "outputId": "7bdb9cf6-259c-4538-df65-3242349acac5"
      },
      "id": "8X92mPOR7JXH",
      "execution_count": null,
      "outputs": [
        {
          "output_type": "execute_result",
          "data": {
            "text/plain": [
              "                             Model    Accuracy\n",
              "1               Decision Tree test  100.000000\n",
              "0         Logistic Regression test   96.190476\n",
              "4               Random Forest test   95.454545\n",
              "5   Random Forest Grid Search test   93.939394\n",
              "6                     SVM rbf test   69.523810\n",
              "8                    SVM Poly test   67.619048\n",
              "3    K neighbours Grid Search test   60.606061\n",
              "2                K neighbours test   54.545455\n",
              "7                 SVM Sigmoid test   12.063492"
            ],
            "text/html": [
              "\n",
              "  <div id=\"df-3860ecbb-82d7-4de3-bc07-bc8b396b2752\">\n",
              "    <div class=\"colab-df-container\">\n",
              "      <div>\n",
              "<style scoped>\n",
              "    .dataframe tbody tr th:only-of-type {\n",
              "        vertical-align: middle;\n",
              "    }\n",
              "\n",
              "    .dataframe tbody tr th {\n",
              "        vertical-align: top;\n",
              "    }\n",
              "\n",
              "    .dataframe thead th {\n",
              "        text-align: right;\n",
              "    }\n",
              "</style>\n",
              "<table border=\"1\" class=\"dataframe\">\n",
              "  <thead>\n",
              "    <tr style=\"text-align: right;\">\n",
              "      <th></th>\n",
              "      <th>Model</th>\n",
              "      <th>Accuracy</th>\n",
              "    </tr>\n",
              "  </thead>\n",
              "  <tbody>\n",
              "    <tr>\n",
              "      <th>1</th>\n",
              "      <td>Decision Tree test</td>\n",
              "      <td>100.000000</td>\n",
              "    </tr>\n",
              "    <tr>\n",
              "      <th>0</th>\n",
              "      <td>Logistic Regression test</td>\n",
              "      <td>96.190476</td>\n",
              "    </tr>\n",
              "    <tr>\n",
              "      <th>4</th>\n",
              "      <td>Random Forest test</td>\n",
              "      <td>95.454545</td>\n",
              "    </tr>\n",
              "    <tr>\n",
              "      <th>5</th>\n",
              "      <td>Random Forest Grid Search test</td>\n",
              "      <td>93.939394</td>\n",
              "    </tr>\n",
              "    <tr>\n",
              "      <th>6</th>\n",
              "      <td>SVM rbf test</td>\n",
              "      <td>69.523810</td>\n",
              "    </tr>\n",
              "    <tr>\n",
              "      <th>8</th>\n",
              "      <td>SVM Poly test</td>\n",
              "      <td>67.619048</td>\n",
              "    </tr>\n",
              "    <tr>\n",
              "      <th>3</th>\n",
              "      <td>K neighbours Grid Search test</td>\n",
              "      <td>60.606061</td>\n",
              "    </tr>\n",
              "    <tr>\n",
              "      <th>2</th>\n",
              "      <td>K neighbours test</td>\n",
              "      <td>54.545455</td>\n",
              "    </tr>\n",
              "    <tr>\n",
              "      <th>7</th>\n",
              "      <td>SVM Sigmoid test</td>\n",
              "      <td>12.063492</td>\n",
              "    </tr>\n",
              "  </tbody>\n",
              "</table>\n",
              "</div>\n",
              "      <button class=\"colab-df-convert\" onclick=\"convertToInteractive('df-3860ecbb-82d7-4de3-bc07-bc8b396b2752')\"\n",
              "              title=\"Convert this dataframe to an interactive table.\"\n",
              "              style=\"display:none;\">\n",
              "        \n",
              "  <svg xmlns=\"http://www.w3.org/2000/svg\" height=\"24px\"viewBox=\"0 0 24 24\"\n",
              "       width=\"24px\">\n",
              "    <path d=\"M0 0h24v24H0V0z\" fill=\"none\"/>\n",
              "    <path d=\"M18.56 5.44l.94 2.06.94-2.06 2.06-.94-2.06-.94-.94-2.06-.94 2.06-2.06.94zm-11 1L8.5 8.5l.94-2.06 2.06-.94-2.06-.94L8.5 2.5l-.94 2.06-2.06.94zm10 10l.94 2.06.94-2.06 2.06-.94-2.06-.94-.94-2.06-.94 2.06-2.06.94z\"/><path d=\"M17.41 7.96l-1.37-1.37c-.4-.4-.92-.59-1.43-.59-.52 0-1.04.2-1.43.59L10.3 9.45l-7.72 7.72c-.78.78-.78 2.05 0 2.83L4 21.41c.39.39.9.59 1.41.59.51 0 1.02-.2 1.41-.59l7.78-7.78 2.81-2.81c.8-.78.8-2.07 0-2.86zM5.41 20L4 18.59l7.72-7.72 1.47 1.35L5.41 20z\"/>\n",
              "  </svg>\n",
              "      </button>\n",
              "      \n",
              "  <style>\n",
              "    .colab-df-container {\n",
              "      display:flex;\n",
              "      flex-wrap:wrap;\n",
              "      gap: 12px;\n",
              "    }\n",
              "\n",
              "    .colab-df-convert {\n",
              "      background-color: #E8F0FE;\n",
              "      border: none;\n",
              "      border-radius: 50%;\n",
              "      cursor: pointer;\n",
              "      display: none;\n",
              "      fill: #1967D2;\n",
              "      height: 32px;\n",
              "      padding: 0 0 0 0;\n",
              "      width: 32px;\n",
              "    }\n",
              "\n",
              "    .colab-df-convert:hover {\n",
              "      background-color: #E2EBFA;\n",
              "      box-shadow: 0px 1px 2px rgba(60, 64, 67, 0.3), 0px 1px 3px 1px rgba(60, 64, 67, 0.15);\n",
              "      fill: #174EA6;\n",
              "    }\n",
              "\n",
              "    [theme=dark] .colab-df-convert {\n",
              "      background-color: #3B4455;\n",
              "      fill: #D2E3FC;\n",
              "    }\n",
              "\n",
              "    [theme=dark] .colab-df-convert:hover {\n",
              "      background-color: #434B5C;\n",
              "      box-shadow: 0px 1px 3px 1px rgba(0, 0, 0, 0.15);\n",
              "      filter: drop-shadow(0px 1px 2px rgba(0, 0, 0, 0.3));\n",
              "      fill: #FFFFFF;\n",
              "    }\n",
              "  </style>\n",
              "\n",
              "      <script>\n",
              "        const buttonEl =\n",
              "          document.querySelector('#df-3860ecbb-82d7-4de3-bc07-bc8b396b2752 button.colab-df-convert');\n",
              "        buttonEl.style.display =\n",
              "          google.colab.kernel.accessAllowed ? 'block' : 'none';\n",
              "\n",
              "        async function convertToInteractive(key) {\n",
              "          const element = document.querySelector('#df-3860ecbb-82d7-4de3-bc07-bc8b396b2752');\n",
              "          const dataTable =\n",
              "            await google.colab.kernel.invokeFunction('convertToInteractive',\n",
              "                                                     [key], {});\n",
              "          if (!dataTable) return;\n",
              "\n",
              "          const docLinkHtml = 'Like what you see? Visit the ' +\n",
              "            '<a target=\"_blank\" href=https://colab.research.google.com/notebooks/data_table.ipynb>data table notebook</a>'\n",
              "            + ' to learn more about interactive tables.';\n",
              "          element.innerHTML = '';\n",
              "          dataTable['output_type'] = 'display_data';\n",
              "          await google.colab.output.renderOutput(dataTable, element);\n",
              "          const docLink = document.createElement('div');\n",
              "          docLink.innerHTML = docLinkHtml;\n",
              "          element.appendChild(docLink);\n",
              "        }\n",
              "      </script>\n",
              "    </div>\n",
              "  </div>\n",
              "  "
            ]
          },
          "metadata": {},
          "execution_count": 65
        }
      ]
    },
    {
      "cell_type": "code",
      "source": [
        "compare = pd.DataFrame({'Model': ['Logistic Regression train', ' Decision Tree train',' K neighbours train',' K neighbours Grid Search train',' Random Forest train',' Random Forest GS train','SVM rbf train','SVM Sigmoid train','SVM Poly train'], 'Accuracy': [lrac_train*100, DTAcc_train*100,KNAcc_train*100,KNAcc_gs_train*100,RFAcc_train*100,RFAcc_gs_train*100,svcrbf_train*100,svcsig_train*100,svcpoly_train*100] })\n",
        "compare.sort_values(by='Accuracy', ascending=False)"
      ],
      "metadata": {
        "id": "qVVmdOyckk2R",
        "colab": {
          "base_uri": "https://localhost:8080/"
        },
        "outputId": "85271c7d-4d08-4cf8-9291-a9a032829167"
      },
      "id": "qVVmdOyckk2R",
      "execution_count": null,
      "outputs": [
        {
          "output_type": "execute_result",
          "data": {
            "text/plain": [
              "                             Model    Accuracy\n",
              "4              Random Forest train  100.000000\n",
              "5           Random Forest GS train   97.142857\n",
              "1              Decision Tree train   93.939394\n",
              "0        Logistic Regression train   92.424242\n",
              "3   K neighbours Grid Search train   60.606061\n",
              "8                   SVM Poly train   56.060606\n",
              "2               K neighbours train   54.545455\n",
              "6                    SVM rbf train   53.030303\n",
              "7                SVM Sigmoid train    4.545455"
            ],
            "text/html": [
              "\n",
              "  <div id=\"df-d58c8893-01b9-4828-9268-d5e54e716da8\">\n",
              "    <div class=\"colab-df-container\">\n",
              "      <div>\n",
              "<style scoped>\n",
              "    .dataframe tbody tr th:only-of-type {\n",
              "        vertical-align: middle;\n",
              "    }\n",
              "\n",
              "    .dataframe tbody tr th {\n",
              "        vertical-align: top;\n",
              "    }\n",
              "\n",
              "    .dataframe thead th {\n",
              "        text-align: right;\n",
              "    }\n",
              "</style>\n",
              "<table border=\"1\" class=\"dataframe\">\n",
              "  <thead>\n",
              "    <tr style=\"text-align: right;\">\n",
              "      <th></th>\n",
              "      <th>Model</th>\n",
              "      <th>Accuracy</th>\n",
              "    </tr>\n",
              "  </thead>\n",
              "  <tbody>\n",
              "    <tr>\n",
              "      <th>4</th>\n",
              "      <td>Random Forest train</td>\n",
              "      <td>100.000000</td>\n",
              "    </tr>\n",
              "    <tr>\n",
              "      <th>5</th>\n",
              "      <td>Random Forest GS train</td>\n",
              "      <td>97.142857</td>\n",
              "    </tr>\n",
              "    <tr>\n",
              "      <th>1</th>\n",
              "      <td>Decision Tree train</td>\n",
              "      <td>93.939394</td>\n",
              "    </tr>\n",
              "    <tr>\n",
              "      <th>0</th>\n",
              "      <td>Logistic Regression train</td>\n",
              "      <td>92.424242</td>\n",
              "    </tr>\n",
              "    <tr>\n",
              "      <th>3</th>\n",
              "      <td>K neighbours Grid Search train</td>\n",
              "      <td>60.606061</td>\n",
              "    </tr>\n",
              "    <tr>\n",
              "      <th>8</th>\n",
              "      <td>SVM Poly train</td>\n",
              "      <td>56.060606</td>\n",
              "    </tr>\n",
              "    <tr>\n",
              "      <th>2</th>\n",
              "      <td>K neighbours train</td>\n",
              "      <td>54.545455</td>\n",
              "    </tr>\n",
              "    <tr>\n",
              "      <th>6</th>\n",
              "      <td>SVM rbf train</td>\n",
              "      <td>53.030303</td>\n",
              "    </tr>\n",
              "    <tr>\n",
              "      <th>7</th>\n",
              "      <td>SVM Sigmoid train</td>\n",
              "      <td>4.545455</td>\n",
              "    </tr>\n",
              "  </tbody>\n",
              "</table>\n",
              "</div>\n",
              "      <button class=\"colab-df-convert\" onclick=\"convertToInteractive('df-d58c8893-01b9-4828-9268-d5e54e716da8')\"\n",
              "              title=\"Convert this dataframe to an interactive table.\"\n",
              "              style=\"display:none;\">\n",
              "        \n",
              "  <svg xmlns=\"http://www.w3.org/2000/svg\" height=\"24px\"viewBox=\"0 0 24 24\"\n",
              "       width=\"24px\">\n",
              "    <path d=\"M0 0h24v24H0V0z\" fill=\"none\"/>\n",
              "    <path d=\"M18.56 5.44l.94 2.06.94-2.06 2.06-.94-2.06-.94-.94-2.06-.94 2.06-2.06.94zm-11 1L8.5 8.5l.94-2.06 2.06-.94-2.06-.94L8.5 2.5l-.94 2.06-2.06.94zm10 10l.94 2.06.94-2.06 2.06-.94-2.06-.94-.94-2.06-.94 2.06-2.06.94z\"/><path d=\"M17.41 7.96l-1.37-1.37c-.4-.4-.92-.59-1.43-.59-.52 0-1.04.2-1.43.59L10.3 9.45l-7.72 7.72c-.78.78-.78 2.05 0 2.83L4 21.41c.39.39.9.59 1.41.59.51 0 1.02-.2 1.41-.59l7.78-7.78 2.81-2.81c.8-.78.8-2.07 0-2.86zM5.41 20L4 18.59l7.72-7.72 1.47 1.35L5.41 20z\"/>\n",
              "  </svg>\n",
              "      </button>\n",
              "      \n",
              "  <style>\n",
              "    .colab-df-container {\n",
              "      display:flex;\n",
              "      flex-wrap:wrap;\n",
              "      gap: 12px;\n",
              "    }\n",
              "\n",
              "    .colab-df-convert {\n",
              "      background-color: #E8F0FE;\n",
              "      border: none;\n",
              "      border-radius: 50%;\n",
              "      cursor: pointer;\n",
              "      display: none;\n",
              "      fill: #1967D2;\n",
              "      height: 32px;\n",
              "      padding: 0 0 0 0;\n",
              "      width: 32px;\n",
              "    }\n",
              "\n",
              "    .colab-df-convert:hover {\n",
              "      background-color: #E2EBFA;\n",
              "      box-shadow: 0px 1px 2px rgba(60, 64, 67, 0.3), 0px 1px 3px 1px rgba(60, 64, 67, 0.15);\n",
              "      fill: #174EA6;\n",
              "    }\n",
              "\n",
              "    [theme=dark] .colab-df-convert {\n",
              "      background-color: #3B4455;\n",
              "      fill: #D2E3FC;\n",
              "    }\n",
              "\n",
              "    [theme=dark] .colab-df-convert:hover {\n",
              "      background-color: #434B5C;\n",
              "      box-shadow: 0px 1px 3px 1px rgba(0, 0, 0, 0.15);\n",
              "      filter: drop-shadow(0px 1px 2px rgba(0, 0, 0, 0.3));\n",
              "      fill: #FFFFFF;\n",
              "    }\n",
              "  </style>\n",
              "\n",
              "      <script>\n",
              "        const buttonEl =\n",
              "          document.querySelector('#df-d58c8893-01b9-4828-9268-d5e54e716da8 button.colab-df-convert');\n",
              "        buttonEl.style.display =\n",
              "          google.colab.kernel.accessAllowed ? 'block' : 'none';\n",
              "\n",
              "        async function convertToInteractive(key) {\n",
              "          const element = document.querySelector('#df-d58c8893-01b9-4828-9268-d5e54e716da8');\n",
              "          const dataTable =\n",
              "            await google.colab.kernel.invokeFunction('convertToInteractive',\n",
              "                                                     [key], {});\n",
              "          if (!dataTable) return;\n",
              "\n",
              "          const docLinkHtml = 'Like what you see? Visit the ' +\n",
              "            '<a target=\"_blank\" href=https://colab.research.google.com/notebooks/data_table.ipynb>data table notebook</a>'\n",
              "            + ' to learn more about interactive tables.';\n",
              "          element.innerHTML = '';\n",
              "          dataTable['output_type'] = 'display_data';\n",
              "          await google.colab.output.renderOutput(dataTable, element);\n",
              "          const docLink = document.createElement('div');\n",
              "          docLink.innerHTML = docLinkHtml;\n",
              "          element.appendChild(docLink);\n",
              "        }\n",
              "      </script>\n",
              "    </div>\n",
              "  </div>\n",
              "  "
            ]
          },
          "metadata": {},
          "execution_count": 66
        }
      ]
    },
    {
      "cell_type": "code",
      "source": [
        "plt.style.use(\"seaborn\")\n",
        "\n",
        "x = ['Logistic Regression test', ' Decision Tree test',' K neighbours test',' K neighbours Grid Search test',' Random Forest test',' Random Forest Grid Search test','SVM rbf test','SVM Sigmoid test','SVM Poly test']\n",
        "\n",
        "y = [lrac_test, DTAcc_test,KNAcc_test,KNAcc_gs_test,RFAcc_test,RFAcc_gs_test, svcrbf_test,svcsig_test,svcpoly_test]\n",
        "\n",
        "fig, ax = plt.subplots(figsize=(10,5))\n",
        "sns.barplot(x=x,y=y, palette=\"hot\");\n",
        "plt.ylabel(\"Model Accuracy\")\n",
        "plt.xticks(rotation=40)\n",
        "plt.title(\"Model Comparison - Model Accuracy test data\", fontsize=15, fontname=\"Helvetica\", y=1.03);"
      ],
      "metadata": {
        "id": "0xhUjkvyEBo6",
        "outputId": "38c3ded5-5d39-4a54-a8d5-2c544931b451",
        "colab": {
          "base_uri": "https://localhost:8080/",
          "height": 72
        }
      },
      "id": "0xhUjkvyEBo6",
      "execution_count": null,
      "outputs": [
        {
          "output_type": "stream",
          "name": "stderr",
          "text": [
            "WARNING:matplotlib.font_manager:findfont: Font family ['Helvetica'] not found. Falling back to DejaVu Sans.\n"
          ]
        },
        {
          "output_type": "display_data",
          "data": {
            "text/plain": [
              "<Figure size 720x360 with 1 Axes>"
            ],
            "image/png": "[encoded data removed]"
          },
          "metadata": {}
        }
      ]
    },
    {
      "cell_type": "code",
      "source": [
        "plt.style.use(\"seaborn\")\n",
        "\n",
        "x = ['Logistic Regression train', ' Decision Tree train',' K neighbours train',' K neighbours Grid Search train',' Random Forest train',' Random Forest Grid Search train','SVM rbf train','SVM Sigmoid train','SVM Poly train']\n",
        "\n",
        "y = [lrac_train, DTAcc_train,KNAcc_train,KNAcc_gs_train,RFAcc_train,RFAcc_gs_train, svcrbf_train,svcsig_train,svcpoly_train]\n",
        "\n",
        "fig, ax = plt.subplots(figsize=(10,5))\n",
        "sns.barplot(x=x,y=y, palette=\"hot\");\n",
        "plt.ylabel(\"Model Accuracy\")\n",
        "plt.xticks(rotation=30)\n",
        "plt.title(\"Model Comparison - Model Accuracy train data\", fontsize=15, fontname=\"Helvetica\", y=1.03);"
      ],
      "metadata": {
        "colab": {
          "base_uri": "https://localhost:8080/"
        },
        "id": "Z6s5r9njYOVA",
        "outputId": "5aeb8a33-eab6-4c45-9754-c6dacb82f910"
      },
      "id": "Z6s5r9njYOVA",
      "execution_count": null,
      "outputs": [
        {
          "output_type": "display_data",
          "data": {
            "text/plain": [
              "<Figure size 720x360 with 1 Axes>"
            ],
            "image/png": "[encoded data removed]"
          },
          "metadata": {}
        }
      ]
    },
    {
      "cell_type": "code",
      "source": [
        "import matplotlib.pyplot as plt\n",
        "from sklearn.tree import plot_tree\n",
        "\n",
        "fig = plt.figure(figsize=(15,15))\n",
        "_=plot_tree(DTclassifier, \n",
        "                   feature_names=x_train.columns,  \n",
        ")"
      ],
      "metadata": {
        "colab": {
          "base_uri": "https://localhost:8080/"
        },
        "id": "yKaWLv0mF84f",
        "outputId": "4b8df0c8-779d-44d5-efe4-3bb11349bfb5"
      },
      "id": "yKaWLv0mF84f",
      "execution_count": null,
      "outputs": [
        {
          "output_type": "display_data",
          "data": {
            "text/plain": [
              "<Figure size 1080x1080 with 1 Axes>"
            ],
            "image/png": "[encoded data removed]"
          },
          "metadata": {}
        }
      ]
    }
  ],
  "metadata": {
    "kernelspec": {
      "display_name": "Python 3 (ipykernel)",
      "language": "python",
      "name": "python3"
    },
    "language_info": {
      "codemirror_mode": {
        "name": "ipython",
        "version": 3
      },
      "file_extension": ".py",
      "mimetype": "text/x-python",
      "name": "python",
      "nbconvert_exporter": "python",
      "pygments_lexer": "ipython3",
      "version": "3.9.12"
    },
    "colab": {
      "provenance": [],
      "collapsed_sections": [
        "RF2ZR5x18BTt",
        "ocH-XaIn3i7Q",
        "y7tvDQqz_eBl",
        "fho8hVADQZAh"
      ]
    }
  },
  "nbformat": 4,
  "nbformat_minor": 5
}